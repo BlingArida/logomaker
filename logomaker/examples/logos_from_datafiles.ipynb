{
 "cells": [
  {
   "cell_type": "code",
   "execution_count": null,
   "metadata": {},
   "outputs": [],
   "source": [
    "import numpy as np\n",
    "import pandas as pd\n",
    "import matplotlib.pyplot as plt\n",
    "import gzip\n",
    "import os\n",
    "% matplotlib inline\n",
    "plt.ion()\n",
    "\n",
    "import sys\n",
    "sys.path.append('../../')\n",
    "import logomaker"
   ]
  },
  {
   "cell_type": "markdown",
   "metadata": {},
   "source": [
    "# Saliency data"
   ]
  },
  {
   "cell_type": "code",
   "execution_count": null,
   "metadata": {},
   "outputs": [],
   "source": [
    "# load saliency data\n",
    "with logomaker.open_example_datafile('nn_saliency_values.txt') as f:\n",
    "    saliency_data_df = pd.read_csv(f, comment='#', sep='\\t')\n",
    "    \n",
    "# preview dataframe\n",
    "saliency_data_df.head()"
   ]
  },
  {
   "cell_type": "code",
   "execution_count": null,
   "metadata": {},
   "outputs": [],
   "source": [
    "# create saliency matrix\n",
    "saliency_mat_df = logomaker.saliency_to_matrix(seq=saliency_data_df['character'], \n",
    "                                               values=saliency_data_df['value'])\n",
    "\n",
    "# show logo\n",
    "logomaker.Logo(saliency_mat_df)"
   ]
  },
  {
   "cell_type": "markdown",
   "metadata": {},
   "source": [
    "# CRP binding sites"
   ]
  },
  {
   "cell_type": "code",
   "execution_count": null,
   "metadata": {},
   "outputs": [],
   "source": [
    "# load CRP binding sites\n",
    "with logomaker.open_example_datafile('crp_sites.fa', print_description=False) as f:\n",
    "    lines = f.readlines()\n",
    "    \n",
    "# preview loaded file\n",
    "print(''.join(lines[:20]))"
   ]
  },
  {
   "cell_type": "code",
   "execution_count": null,
   "metadata": {},
   "outputs": [],
   "source": [
    "# extract binding site sequences from FASTA lines\n",
    "seqs = [seq.strip() for seq in lines if ('#' not in seq) and ('>') not in seq]\n",
    "\n",
    "# preview sequences\n",
    "seqs[:10]"
   ]
  },
  {
   "cell_type": "code",
   "execution_count": null,
   "metadata": {},
   "outputs": [],
   "source": [
    "# create counts matrix\n",
    "crp_counts_df = logomaker.alignment_to_matrix(sequences=seqs, to_type='counts')\n",
    "\n",
    "# show logo\n",
    "logomaker.Logo(crp_counts_df)"
   ]
  },
  {
   "cell_type": "code",
   "execution_count": null,
   "metadata": {},
   "outputs": [],
   "source": [
    "# create probability matrix\n",
    "crp_prob_df = logomaker.alignment_to_matrix(sequences=seqs, to_type='probability')\n",
    "\n",
    "# show logo\n",
    "logomaker.Logo(crp_prob_df)"
   ]
  },
  {
   "cell_type": "code",
   "execution_count": null,
   "metadata": {
    "collapsed": true
   },
   "outputs": [],
   "source": [
    "# set GC content of E. coli genome;\n",
    "# from https://bionumbers.hms.harvard.edu/bionumber.aspx?id=100528\n",
    "gc = .508 \n",
    "\n",
    "# format as background array\n",
    "background = [(1-gc)/2, gc/2, gc/2, (1-gc)/2]"
   ]
  },
  {
   "cell_type": "code",
   "execution_count": null,
   "metadata": {},
   "outputs": [],
   "source": [
    "# create information matrix\n",
    "crp_info_df = logomaker.alignment_to_matrix(sequences=seqs, \n",
    "                                            to_type='information', \n",
    "                                            background=background)\n",
    "\n",
    "# show logo\n",
    "logomaker.Logo(crp_info_df)"
   ]
  },
  {
   "cell_type": "code",
   "execution_count": null,
   "metadata": {},
   "outputs": [],
   "source": [
    "# create counts matrix\n",
    "crp_weight_df = logomaker.alignment_to_matrix(sequences=seqs, \n",
    "                                              to_type='weight', \n",
    "                                              background=background,\n",
    "                                              center_weights=True)\n",
    "\n",
    "# show logo\n",
    "logomaker.Logo(crp_weight_df)"
   ]
  },
  {
   "cell_type": "markdown",
   "metadata": {},
   "source": [
    "# WW information matrix"
   ]
  },
  {
   "cell_type": "code",
   "execution_count": null,
   "metadata": {},
   "outputs": [],
   "source": [
    "# load ww alignment\n",
    "with logomaker.open_example_datafile('ww_sequences.fa', print_description=False) as f:\n",
    "    lines = f.readlines()\n",
    "    \n",
    "# preview loaded file\n",
    "print(''.join(lines[:20]))"
   ]
  },
  {
   "cell_type": "code",
   "execution_count": null,
   "metadata": {},
   "outputs": [],
   "source": [
    "# extract ww domain sequences\n",
    "seqs = [seq.strip().upper() for seq in lines if ('#' not in seq) and ('>') not in seq]\n",
    "\n",
    "# preview sequences\n",
    "seqs[:10]"
   ]
  },
  {
   "cell_type": "code",
   "execution_count": null,
   "metadata": {},
   "outputs": [],
   "source": [
    "# create counts matrix\n",
    "ww_counts_df = logomaker.alignment_to_matrix(sequences=seqs, to_type='counts', characters_to_ignore='.-X')\n",
    "\n",
    "# show full ww counts\n",
    "logomaker.Logo(ww_counts_df)"
   ]
  },
  {
   "cell_type": "code",
   "execution_count": null,
   "metadata": {},
   "outputs": [],
   "source": [
    "# filter base on counts\n",
    "num_seqs = ww_counts_df.sum(axis=1)\n",
    "pos_to_keep = num_seqs > len(seqs)/2\n",
    "ww_counts_df = ww_counts_df[pos_to_keep]\n",
    "ww_counts_df.reset_index(drop=True, inplace=True)\n",
    "\n",
    "# show cropped ww counts logo\n",
    "logomaker.Logo(ww_counts_df, color_scheme='dmslogo_charge')"
   ]
  },
  {
   "cell_type": "code",
   "execution_count": null,
   "metadata": {},
   "outputs": [],
   "source": [
    "# transform to information matrix\n",
    "ww_info_df = logomaker.transform_matrix(ww_counts_df, from_type='counts', to_type='information')\n",
    "\n",
    "# show logo\n",
    "logomaker.Logo(ww_info_df)"
   ]
  },
  {
   "cell_type": "markdown",
   "metadata": {},
   "source": [
    "# 5'ss probability matrix"
   ]
  },
  {
   "cell_type": "code",
   "execution_count": null,
   "metadata": {},
   "outputs": [],
   "source": [
    "# load sequence dataframe\n",
    "with logomaker.open_example_datafile('ss_sequences.txt', print_description=False) as f:\n",
    "    seq_df = pd.read_csv(f, delim_whitespace=True, comment='#')\n",
    "    \n",
    "# preview sequence dataframe\n",
    "seq_df.head()"
   ]
  },
  {
   "cell_type": "code",
   "execution_count": null,
   "metadata": {},
   "outputs": [],
   "source": [
    "# compute probability matrix\n",
    "prob_df = logomaker.alignment_to_matrix(sequences=seq_df['sequence'], \n",
    "                                        counts=seq_df['count'],\n",
    "                                        to_type='probability',\n",
    "                                        pseudocount=0)\n",
    "\n",
    "# show probability logo\n",
    "logomaker.Logo(prob_df)"
   ]
  },
  {
   "cell_type": "markdown",
   "metadata": {},
   "source": [
    "# ARS enrichment matrix"
   ]
  },
  {
   "cell_type": "code",
   "execution_count": null,
   "metadata": {},
   "outputs": [],
   "source": [
    "# load ars selection data\n",
    "with logomaker.open_example_datafile('ars_sequences.txt.gz', print_description=False) as f:\n",
    "    ars_df = pd.read_csv(f, sep='\\t', comment='#')\n",
    "\n",
    "# preview ars_df\n",
    "ars_df.head()"
   ]
  },
  {
   "cell_type": "code",
   "execution_count": null,
   "metadata": {},
   "outputs": [],
   "source": [
    "# compute library probability matrix\n",
    "lib_df = logomaker.alignment_to_matrix(sequences=ars_df['sequence'], \n",
    "                                       counts=ars_df['library_ct'], \n",
    "                                       to_type='probability')\n",
    "\n",
    "# preview library probability matrix\n",
    "lib_df.head()"
   ]
  },
  {
   "cell_type": "code",
   "execution_count": null,
   "metadata": {},
   "outputs": [],
   "source": [
    "# compute selected probability matrix\n",
    "sel_df = logomaker.alignment_to_matrix(sequences=ars_df['sequence'], \n",
    "                                       counts=ars_df['selected_ct'], \n",
    "                                       to_type='probability')\n",
    "\n",
    "# preview selected probability matrix\n",
    "sel_df.head()"
   ]
  },
  {
   "cell_type": "code",
   "execution_count": null,
   "metadata": {},
   "outputs": [],
   "source": [
    "# compute enrichment matrix, center values, and reverse-complement\n",
    "enrichment_df = np.log2(sel_df/lib_df)\n",
    "enrichment_df = logomaker.transform_matrix(enrichment_df, center_values=True)\n",
    "enrichment_df.loc[:,:] = enrichment_df.values[::-1,::-1]\n",
    "\n",
    "# show enrichment logo\n",
    "logo = logomaker.Logo(enrichment_df)"
   ]
  },
  {
   "cell_type": "code",
   "execution_count": null,
   "metadata": {},
   "outputs": [],
   "source": [
    "logomaker.list_font_names()"
   ]
  },
  {
   "cell_type": "code",
   "execution_count": null,
   "metadata": {
    "collapsed": true
   },
   "outputs": [],
   "source": []
  }
 ],
 "metadata": {
  "kernelspec": {
   "display_name": "anaconda_kernel",
   "language": "python",
   "name": "anaconda_kernel"
  },
  "language_info": {
   "codemirror_mode": {
    "name": "ipython",
    "version": 3
   },
   "file_extension": ".py",
   "mimetype": "text/x-python",
   "name": "python",
   "nbconvert_exporter": "python",
   "pygments_lexer": "ipython3",
   "version": "3.6.3"
  }
 },
 "nbformat": 4,
 "nbformat_minor": 2
}
