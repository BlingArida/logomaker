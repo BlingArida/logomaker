{
 "cells": [
  {
   "cell_type": "code",
   "execution_count": 1,
   "metadata": {
    "collapsed": true
   },
   "outputs": [],
   "source": [
    "import numpy as np\n",
    "import pandas as pd\n",
    "import matplotlib.pyplot as plt\n",
    "import gzip\n",
    "import os\n",
    "% matplotlib inline\n",
    "plt.ion()\n",
    "\n",
    "import sys\n",
    "sys.path.append('../../')\n",
    "import logomaker"
   ]
  },
  {
   "cell_type": "markdown",
   "metadata": {},
   "source": [
    "# Saliency data"
   ]
  },
  {
   "cell_type": "code",
   "execution_count": null,
   "metadata": {},
   "outputs": [],
   "source": [
    "# load saliency data\n",
    "with logomaker.open_example_datafile('nn_saliency_values.txt') as f:\n",
    "    saliency_data_df = pd.read_csv(f, comment='#', sep='\\t')\n",
    "    \n",
    "# preview dataframe\n",
    "saliency_data_df.head()"
   ]
  },
  {
   "cell_type": "code",
   "execution_count": null,
   "metadata": {},
   "outputs": [],
   "source": [
    "# create saliency matrix\n",
    "saliency_mat_df = logomaker.saliency_to_matrix(seq=saliency_data_df['character'], \n",
    "                                               values=saliency_data_df['value'])\n",
    "\n",
    "# show logo\n",
    "logomaker.Logo(saliency_mat_df)"
   ]
  },
  {
   "cell_type": "markdown",
   "metadata": {},
   "source": [
    "# CRP binding sites"
   ]
  },
  {
   "cell_type": "code",
   "execution_count": null,
   "metadata": {},
   "outputs": [],
   "source": [
    "# load CRP binding sites\n",
    "with logomaker.open_example_datafile('crp_sites.fa', print_description=False) as f:\n",
    "    lines = f.readlines()\n",
    "    \n",
    "# preview loaded file\n",
    "print(''.join(lines[:20]))"
   ]
  },
  {
   "cell_type": "code",
   "execution_count": null,
   "metadata": {},
   "outputs": [],
   "source": [
    "# extract binding site sequences from FASTA lines\n",
    "seqs = [seq.strip() for seq in lines if ('#' not in seq) and ('>') not in seq]\n",
    "\n",
    "# preview sequences\n",
    "seqs[:10]"
   ]
  },
  {
   "cell_type": "code",
   "execution_count": null,
   "metadata": {},
   "outputs": [],
   "source": [
    "# create counts matrix\n",
    "crp_counts_df = logomaker.alignment_to_matrix(sequences=seqs, to_type='counts')\n",
    "\n",
    "# show logo\n",
    "logomaker.Logo(crp_counts_df)"
   ]
  },
  {
   "cell_type": "code",
   "execution_count": null,
   "metadata": {},
   "outputs": [],
   "source": [
    "# create probability matrix\n",
    "crp_prob_df = logomaker.alignment_to_matrix(sequences=seqs, to_type='probability')\n",
    "\n",
    "# show logo\n",
    "logomaker.Logo(crp_prob_df)"
   ]
  },
  {
   "cell_type": "code",
   "execution_count": null,
   "metadata": {
    "collapsed": true
   },
   "outputs": [],
   "source": [
    "# set GC content of E. coli genome;\n",
    "# from https://bionumbers.hms.harvard.edu/bionumber.aspx?id=100528\n",
    "gc = .508 \n",
    "\n",
    "# format as background array\n",
    "background = [(1-gc)/2, gc/2, gc/2, (1-gc)/2]"
   ]
  },
  {
   "cell_type": "code",
   "execution_count": null,
   "metadata": {},
   "outputs": [],
   "source": [
    "# create information matrix\n",
    "crp_info_df = logomaker.alignment_to_matrix(sequences=seqs, \n",
    "                                            to_type='information', \n",
    "                                            background=background)\n",
    "\n",
    "# show logo\n",
    "logomaker.Logo(crp_info_df)"
   ]
  },
  {
   "cell_type": "code",
   "execution_count": null,
   "metadata": {},
   "outputs": [],
   "source": [
    "# create counts matrix\n",
    "crp_weight_df = logomaker.alignment_to_matrix(sequences=seqs, \n",
    "                                              to_type='weight', \n",
    "                                              background=background,\n",
    "                                              center_weights=True)\n",
    "\n",
    "# show logo\n",
    "logomaker.Logo(crp_weight_df)"
   ]
  },
  {
   "cell_type": "markdown",
   "metadata": {},
   "source": [
    "# WW information matrix"
   ]
  },
  {
   "cell_type": "code",
   "execution_count": null,
   "metadata": {},
   "outputs": [],
   "source": [
    "# load ww alignment\n",
    "with logomaker.open_example_datafile('ww_sequences.fa', print_description=False) as f:\n",
    "    lines = f.readlines()\n",
    "    \n",
    "# preview loaded file\n",
    "print(''.join(lines[:20]))"
   ]
  },
  {
   "cell_type": "code",
   "execution_count": null,
   "metadata": {},
   "outputs": [],
   "source": [
    "# extract ww domain sequences\n",
    "seqs = [seq.strip().upper() for seq in lines if ('#' not in seq) and ('>') not in seq]\n",
    "\n",
    "# preview sequences\n",
    "seqs[:10]"
   ]
  },
  {
   "cell_type": "code",
   "execution_count": null,
   "metadata": {},
   "outputs": [],
   "source": [
    "# create counts matrix\n",
    "ww_counts_df = logomaker.alignment_to_matrix(sequences=seqs, to_type='counts', characters_to_ignore='.-X')\n",
    "\n",
    "# show full ww counts\n",
    "logomaker.Logo(ww_counts_df)"
   ]
  },
  {
   "cell_type": "code",
   "execution_count": null,
   "metadata": {},
   "outputs": [],
   "source": [
    "# filter base on counts\n",
    "num_seqs = ww_counts_df.sum(axis=1)\n",
    "pos_to_keep = num_seqs > len(seqs)/2\n",
    "ww_counts_df = ww_counts_df[pos_to_keep]\n",
    "ww_counts_df.reset_index(drop=True, inplace=True)\n",
    "\n",
    "# show cropped ww counts logo\n",
    "logomaker.Logo(ww_counts_df)"
   ]
  },
  {
   "cell_type": "code",
   "execution_count": null,
   "metadata": {},
   "outputs": [],
   "source": [
    "# transform to information matrix\n",
    "ww_info_df = logomaker.transform_matrix(ww_counts_df, from_type='counts', to_type='information')\n",
    "\n",
    "# show logo\n",
    "logomaker.Logo(ww_info_df)"
   ]
  },
  {
   "cell_type": "markdown",
   "metadata": {},
   "source": [
    "# 5'ss probability matrix"
   ]
  },
  {
   "cell_type": "code",
   "execution_count": null,
   "metadata": {},
   "outputs": [],
   "source": [
    "# load sequence dataframe\n",
    "with logomaker.open_example_datafile('ss_sequences.txt', print_description=False) as f:\n",
    "    seq_df = pd.read_csv(f, delim_whitespace=True, comment='#')\n",
    "    \n",
    "# preview sequence dataframe\n",
    "seq_df.head()"
   ]
  },
  {
   "cell_type": "code",
   "execution_count": null,
   "metadata": {},
   "outputs": [],
   "source": [
    "# compute probability matrix\n",
    "prob_df = logomaker.alignment_to_matrix(sequences=seq_df['sequence'], \n",
    "                                        counts=seq_df['count'],\n",
    "                                        to_type='probability',\n",
    "                                        pseudocount=0)\n",
    "\n",
    "# show probability logo\n",
    "logomaker.Logo(prob_df)"
   ]
  },
  {
   "cell_type": "markdown",
   "metadata": {},
   "source": [
    "# ARS enrichment matrix"
   ]
  },
  {
   "cell_type": "code",
   "execution_count": 3,
   "metadata": {},
   "outputs": [
    {
     "data": {
      "text/html": [
       "<div>\n",
       "<style scoped>\n",
       "    .dataframe tbody tr th:only-of-type {\n",
       "        vertical-align: middle;\n",
       "    }\n",
       "\n",
       "    .dataframe tbody tr th {\n",
       "        vertical-align: top;\n",
       "    }\n",
       "\n",
       "    .dataframe thead th {\n",
       "        text-align: right;\n",
       "    }\n",
       "</style>\n",
       "<table border=\"1\" class=\"dataframe\">\n",
       "  <thead>\n",
       "    <tr style=\"text-align: right;\">\n",
       "      <th></th>\n",
       "      <th>library_ct</th>\n",
       "      <th>selected_ct</th>\n",
       "      <th>sequence</th>\n",
       "    </tr>\n",
       "  </thead>\n",
       "  <tbody>\n",
       "    <tr>\n",
       "      <th>0</th>\n",
       "      <td>666</td>\n",
       "      <td>0</td>\n",
       "      <td>TCTAACAAAATAGCAAATTTCGTCAAAAATGCTAAGAAATGGGTTA...</td>\n",
       "    </tr>\n",
       "    <tr>\n",
       "      <th>1</th>\n",
       "      <td>292</td>\n",
       "      <td>0</td>\n",
       "      <td>TCTAACAAAATAGCAAATTTCGTCGAAAATGTTTAGAAAAAGGTTA...</td>\n",
       "    </tr>\n",
       "    <tr>\n",
       "      <th>2</th>\n",
       "      <td>224</td>\n",
       "      <td>0</td>\n",
       "      <td>TCTAACAAAATAGCAAATTTCGTCAAAAATGCAATGAAAGCGGATA...</td>\n",
       "    </tr>\n",
       "    <tr>\n",
       "      <th>3</th>\n",
       "      <td>188</td>\n",
       "      <td>0</td>\n",
       "      <td>TCTAACAAAATAGCAAATTTCGGCAAAAATGCTAAGAAATAGGTTA...</td>\n",
       "    </tr>\n",
       "    <tr>\n",
       "      <th>4</th>\n",
       "      <td>116</td>\n",
       "      <td>0</td>\n",
       "      <td>TCTAACAAAATAGCAAATTTCGTCAAACATGCTAAGAAATAGGTTA...</td>\n",
       "    </tr>\n",
       "  </tbody>\n",
       "</table>\n",
       "</div>"
      ],
      "text/plain": [
       "   library_ct  selected_ct                                           sequence\n",
       "0         666            0  TCTAACAAAATAGCAAATTTCGTCAAAAATGCTAAGAAATGGGTTA...\n",
       "1         292            0  TCTAACAAAATAGCAAATTTCGTCGAAAATGTTTAGAAAAAGGTTA...\n",
       "2         224            0  TCTAACAAAATAGCAAATTTCGTCAAAAATGCAATGAAAGCGGATA...\n",
       "3         188            0  TCTAACAAAATAGCAAATTTCGGCAAAAATGCTAAGAAATAGGTTA...\n",
       "4         116            0  TCTAACAAAATAGCAAATTTCGTCAAACATGCTAAGAAATAGGTTA..."
      ]
     },
     "execution_count": 3,
     "metadata": {},
     "output_type": "execute_result"
    }
   ],
   "source": [
    "# load ars selection data\n",
    "with logomaker.open_example_datafile('ars_sequences.txt.gz', print_description=False) as f:\n",
    "    ars_df = pd.read_csv(f, sep='\\t', comment='#')\n",
    "\n",
    "# preview ars_df\n",
    "ars_df.head()"
   ]
  },
  {
   "cell_type": "code",
   "execution_count": 4,
   "metadata": {},
   "outputs": [
    {
     "data": {
      "text/html": [
       "<div>\n",
       "<style scoped>\n",
       "    .dataframe tbody tr th:only-of-type {\n",
       "        vertical-align: middle;\n",
       "    }\n",
       "\n",
       "    .dataframe tbody tr th {\n",
       "        vertical-align: top;\n",
       "    }\n",
       "\n",
       "    .dataframe thead th {\n",
       "        text-align: right;\n",
       "    }\n",
       "</style>\n",
       "<table border=\"1\" class=\"dataframe\">\n",
       "  <thead>\n",
       "    <tr style=\"text-align: right;\">\n",
       "      <th></th>\n",
       "      <th>A</th>\n",
       "      <th>C</th>\n",
       "      <th>G</th>\n",
       "      <th>T</th>\n",
       "    </tr>\n",
       "    <tr>\n",
       "      <th>pos</th>\n",
       "      <th></th>\n",
       "      <th></th>\n",
       "      <th></th>\n",
       "      <th></th>\n",
       "    </tr>\n",
       "  </thead>\n",
       "  <tbody>\n",
       "    <tr>\n",
       "      <th>0</th>\n",
       "      <td>0.000162</td>\n",
       "      <td>0.000227</td>\n",
       "      <td>0.000056</td>\n",
       "      <td>0.999555</td>\n",
       "    </tr>\n",
       "    <tr>\n",
       "      <th>1</th>\n",
       "      <td>0.000198</td>\n",
       "      <td>0.999584</td>\n",
       "      <td>0.000104</td>\n",
       "      <td>0.000114</td>\n",
       "    </tr>\n",
       "    <tr>\n",
       "      <th>2</th>\n",
       "      <td>0.000255</td>\n",
       "      <td>0.000397</td>\n",
       "      <td>0.000317</td>\n",
       "      <td>0.999031</td>\n",
       "    </tr>\n",
       "    <tr>\n",
       "      <th>3</th>\n",
       "      <td>0.999513</td>\n",
       "      <td>0.000069</td>\n",
       "      <td>0.000336</td>\n",
       "      <td>0.000082</td>\n",
       "    </tr>\n",
       "    <tr>\n",
       "      <th>4</th>\n",
       "      <td>0.999340</td>\n",
       "      <td>0.000130</td>\n",
       "      <td>0.000317</td>\n",
       "      <td>0.000214</td>\n",
       "    </tr>\n",
       "  </tbody>\n",
       "</table>\n",
       "</div>"
      ],
      "text/plain": [
       "            A         C         G         T\n",
       "pos                                        \n",
       "0    0.000162  0.000227  0.000056  0.999555\n",
       "1    0.000198  0.999584  0.000104  0.000114\n",
       "2    0.000255  0.000397  0.000317  0.999031\n",
       "3    0.999513  0.000069  0.000336  0.000082\n",
       "4    0.999340  0.000130  0.000317  0.000214"
      ]
     },
     "execution_count": 4,
     "metadata": {},
     "output_type": "execute_result"
    }
   ],
   "source": [
    "# compute library probability matrix\n",
    "lib_df = logomaker.alignment_to_matrix(sequences=ars_df['sequence'], \n",
    "                                       counts=ars_df['library_ct'], \n",
    "                                       to_type='probability')\n",
    "\n",
    "# preview library probability matrix\n",
    "lib_df.head()"
   ]
  },
  {
   "cell_type": "code",
   "execution_count": 5,
   "metadata": {},
   "outputs": [
    {
     "data": {
      "text/html": [
       "<div>\n",
       "<style scoped>\n",
       "    .dataframe tbody tr th:only-of-type {\n",
       "        vertical-align: middle;\n",
       "    }\n",
       "\n",
       "    .dataframe tbody tr th {\n",
       "        vertical-align: top;\n",
       "    }\n",
       "\n",
       "    .dataframe thead th {\n",
       "        text-align: right;\n",
       "    }\n",
       "</style>\n",
       "<table border=\"1\" class=\"dataframe\">\n",
       "  <thead>\n",
       "    <tr style=\"text-align: right;\">\n",
       "      <th></th>\n",
       "      <th>A</th>\n",
       "      <th>C</th>\n",
       "      <th>G</th>\n",
       "      <th>T</th>\n",
       "    </tr>\n",
       "    <tr>\n",
       "      <th>pos</th>\n",
       "      <th></th>\n",
       "      <th></th>\n",
       "      <th></th>\n",
       "      <th></th>\n",
       "    </tr>\n",
       "  </thead>\n",
       "  <tbody>\n",
       "    <tr>\n",
       "      <th>0</th>\n",
       "      <td>0.000145</td>\n",
       "      <td>0.000179</td>\n",
       "      <td>0.000040</td>\n",
       "      <td>0.999636</td>\n",
       "    </tr>\n",
       "    <tr>\n",
       "      <th>1</th>\n",
       "      <td>0.000207</td>\n",
       "      <td>0.999618</td>\n",
       "      <td>0.000097</td>\n",
       "      <td>0.000078</td>\n",
       "    </tr>\n",
       "    <tr>\n",
       "      <th>2</th>\n",
       "      <td>0.000211</td>\n",
       "      <td>0.000352</td>\n",
       "      <td>0.000390</td>\n",
       "      <td>0.999048</td>\n",
       "    </tr>\n",
       "    <tr>\n",
       "      <th>3</th>\n",
       "      <td>0.999608</td>\n",
       "      <td>0.000056</td>\n",
       "      <td>0.000251</td>\n",
       "      <td>0.000085</td>\n",
       "    </tr>\n",
       "    <tr>\n",
       "      <th>4</th>\n",
       "      <td>0.999364</td>\n",
       "      <td>0.000107</td>\n",
       "      <td>0.000304</td>\n",
       "      <td>0.000225</td>\n",
       "    </tr>\n",
       "  </tbody>\n",
       "</table>\n",
       "</div>"
      ],
      "text/plain": [
       "            A         C         G         T\n",
       "pos                                        \n",
       "0    0.000145  0.000179  0.000040  0.999636\n",
       "1    0.000207  0.999618  0.000097  0.000078\n",
       "2    0.000211  0.000352  0.000390  0.999048\n",
       "3    0.999608  0.000056  0.000251  0.000085\n",
       "4    0.999364  0.000107  0.000304  0.000225"
      ]
     },
     "execution_count": 5,
     "metadata": {},
     "output_type": "execute_result"
    }
   ],
   "source": [
    "# compute selected probability matrix\n",
    "sel_df = logomaker.alignment_to_matrix(sequences=ars_df['sequence'], \n",
    "                                       counts=ars_df['selected_ct'], \n",
    "                                       to_type='probability')\n",
    "\n",
    "# preview selected probability matrix\n",
    "sel_df.head()"
   ]
  },
  {
   "cell_type": "code",
   "execution_count": 6,
   "metadata": {},
   "outputs": [
    {
     "data": {
      "image/png": "[encoded data removed]",
      "text/plain": [
       "<Figure size 720x180 with 1 Axes>"
      ]
     },
     "metadata": {},
     "output_type": "display_data"
    }
   ],
   "source": [
    "# compute enrichment matrix, center values, and reverse-complement\n",
    "enrichment_df = np.log2(sel_df/lib_df)\n",
    "enrichment_df = logomaker.transform_matrix(enrichment_df, center_values=True)\n",
    "enrichment_df.loc[:,:] = enrichment_df.values[::-1,::-1]\n",
    "\n",
    "# show enrichment logo\n",
    "logo = logomaker.Logo(enrichment_df)"
   ]
  },
  {
   "cell_type": "code",
   "execution_count": null,
   "metadata": {
    "collapsed": true
   },
   "outputs": [],
   "source": []
  }
 ],
 "metadata": {
  "kernelspec": {
   "display_name": "anaconda_kernel",
   "language": "python",
   "name": "anaconda_kernel"
  },
  "language_info": {
   "codemirror_mode": {
    "name": "ipython",
    "version": 3
   },
   "file_extension": ".py",
   "mimetype": "text/x-python",
   "name": "python",
   "nbconvert_exporter": "python",
   "pygments_lexer": "ipython3",
   "version": "3.6.3"
  }
 },
 "nbformat": 4,
 "nbformat_minor": 2
}
