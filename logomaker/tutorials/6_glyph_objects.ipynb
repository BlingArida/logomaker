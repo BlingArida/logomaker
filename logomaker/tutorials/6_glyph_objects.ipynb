{
 "cells": [
  {
   "cell_type": "markdown",
   "metadata": {},
   "source": [
    "# Glyph Objects"
   ]
  },
  {
   "cell_type": "markdown",
   "metadata": {},
   "source": [
    "Logomaker uses the [glyph](https://logomaker.readthedocs.io/en/latest/Glyph.html) class to render individual glyphs. This class also allows the user to customize each glyph according to their needs. We begin by importing useful packages"
   ]
  },
  {
   "cell_type": "code",
   "execution_count": null,
   "metadata": {
    "collapsed": true
   },
   "outputs": [],
   "source": [
    "import numpy as np\n",
    "import pandas as pd\n",
    "import matplotlib.pyplot as plt\n",
    "\n",
    "%matplotlib inline\n",
    "plt.ion()\n",
    "\n",
    "import sys\n",
    "sys.path.append('../../')\n",
    "\n",
    "import logomaker\n",
    "from logomaker import Glyph"
   ]
  },
  {
   "cell_type": "markdown",
   "metadata": {},
   "source": [
    "As an example, the following figure shows how to raw a single character."
   ]
  },
  {
   "cell_type": "code",
   "execution_count": null,
   "metadata": {},
   "outputs": [],
   "source": [
    "fig, ax = plt.subplots(figsize=[7,3])\n",
    "\n",
    "# set bounding box\n",
    "ax.set_xlim([0,2])\n",
    "ax.set_ylim([0,1])\n",
    "\n",
    "Glyph(c='A', p=1,ceiling=1.0,floor=0.0, ax=ax)"
   ]
  },
  {
   "cell_type": "markdown",
   "metadata": {},
   "source": [
    "In the code snippet above, we have placed a single glyph at a specified location, with in a specified bounding box (specified by a Matplotlib Axes object `ax`). We now use the same bounding box as above, and use additional keywords to customize the glyph's appearance, and location within the bounding box."
   ]
  },
  {
   "cell_type": "code",
   "execution_count": null,
   "metadata": {},
   "outputs": [],
   "source": [
    "fig, ax = plt.subplots(figsize=[7,3])\n",
    "# set bounding box\n",
    "ax.set_xlim([0,2])\n",
    "ax.set_ylim([0,1])\n",
    "\n",
    "Glyph(c='A', \n",
    "      p=1, \n",
    "      width= 1.0, \n",
    "      alpha=.85, \n",
    "      ax = ax,\n",
    "      ceiling=0.9,\n",
    "      floor=0.05, \n",
    "      font_name = 'BiauKai',\n",
    "      color='dodgerblue', \n",
    "      edgecolor='red',\n",
    "      edgewidth=4)"
   ]
  },
  {
   "cell_type": "markdown",
   "metadata": {},
   "source": [
    "We now place two glyphs next to each other and demonstrate the use of the keyword `flip`:"
   ]
  },
  {
   "cell_type": "code",
   "execution_count": null,
   "metadata": {},
   "outputs": [],
   "source": [
    "fig, ax = plt.subplots(figsize=[7,3])\n",
    "# set bounding box\n",
    "ax.set_xlim([0,2])\n",
    "ax.set_ylim([0,1])\n",
    "\n",
    "Glyph(c='A', \n",
    "      p=0.5, \n",
    "      width= 1.0, \n",
    "      alpha=.85, \n",
    "      ax = ax,\n",
    "      ceiling=0.9,\n",
    "      floor=0.05, \n",
    "      font_name = 'BiauKai',\n",
    "      color='dodgerblue', \n",
    "      edgecolor='red',\n",
    "      edgewidth=4)\n",
    "\n",
    "Glyph(c='A', \n",
    "      p=1.3, \n",
    "      width= 1.25, \n",
    "      alpha=.85, \n",
    "      ax = ax,\n",
    "      ceiling=0.9,\n",
    "      floor=0.05, \n",
    "      font_name = 'Kai',\n",
    "      color='black', \n",
    "      edgewidth=4,\n",
    "      flip=True)"
   ]
  },
  {
   "cell_type": "markdown",
   "metadata": {},
   "source": [
    "## Generate Logo from strings\n",
    "\n",
    "We can use the method [sequence_to_matrix](https://logomaker.readthedocs.io/en/latest/matrix.html#sequence-to-matrix) to generate logos from a user-specified string as follows:"
   ]
  },
  {
   "cell_type": "code",
   "execution_count": null,
   "metadata": {},
   "outputs": [],
   "source": [
    "df = logomaker.sequence_to_matrix('LOGOMAKER')\n",
    "logo = logomaker.Logo(df)"
   ]
  },
  {
   "cell_type": "markdown",
   "metadata": {},
   "source": [
    "We can now use the method [style_single_glyph](https://logomaker.readthedocs.io/en/latest/Logo.html#logomaker.Logo.style_single_glyph) to style single glyphs in the logo generated from the user string."
   ]
  },
  {
   "cell_type": "code",
   "execution_count": null,
   "metadata": {},
   "outputs": [],
   "source": [
    "df = logomaker.sequence_to_matrix('LOGOMAKER')\n",
    "logo = logomaker.Logo(df, draw_now=False)\n",
    "logo.style_single_glyph(5,'A',font_name='Comic Sans MS', color='dodgerblue', floor=.5)"
   ]
  },
  {
   "cell_type": "code",
   "execution_count": null,
   "metadata": {
    "collapsed": true
   },
   "outputs": [],
   "source": []
  }
 ],
 "metadata": {
  "kernelspec": {
   "display_name": "Python 3",
   "language": "python",
   "name": "python3"
  },
  "language_info": {
   "codemirror_mode": {
    "name": "ipython",
    "version": 3
   },
   "file_extension": ".py",
   "mimetype": "text/x-python",
   "name": "python",
   "nbconvert_exporter": "python",
   "pygments_lexer": "ipython3",
   "version": "3.6.7"
  }
 },
 "nbformat": 4,
 "nbformat_minor": 2
}
