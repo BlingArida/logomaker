{
 "cells": [
  {
   "cell_type": "markdown",
   "metadata": {},
   "source": [
    "# Logos from alignment"
   ]
  },
  {
   "cell_type": "markdown",
   "metadata": {},
   "source": [
    "Logomaker provides functionality to convert multiple sequence alignments to valid dataframes that can subsequently\n",
    "be drawn as logos. We begin by importing useful python packages. \n"
   ]
  },
  {
   "cell_type": "code",
   "execution_count": 1,
   "metadata": {
    "collapsed": true
   },
   "outputs": [],
   "source": [
    "import numpy as np\n",
    "import pandas as pd\n",
    "import matplotlib.pyplot as plt\n",
    "%matplotlib inline\n",
    "plt.ion()\n",
    "\n",
    "import sys\n",
    "sys.path.append('../../')\n",
    "import logomaker as lm"
   ]
  },
  {
   "cell_type": "markdown",
   "metadata": {},
   "source": [
    "Consider the following multiple sequence alignment (in fasta format) representing CRP binding sites\n",
    "on the E-Coli genome (from [1](#crpsitesfa))."
   ]
  },
  {
   "cell_type": "code",
   "execution_count": 2,
   "metadata": {},
   "outputs": [
    {
     "data": {
      "text/plain": [
       "['>0\\tcaiFp\\t-41.5\\n',\n",
       " 'ATAAGCAGGATTTAGCTCACACTTAT\\n',\n",
       " '>1\\tcaiTp\\t-41.5\\n',\n",
       " 'AAAAATGTGATACCAATCACAGAATA\\n',\n",
       " '>2\\tfixAp\\t-126.5\\n',\n",
       " 'ATATTGGTGATCCATAAAACAATATT\\n',\n",
       " '>3\\tfixAp\\t-69.5\\n',\n",
       " 'ATATTGGTGAGGAACTTAACAATATT\\n',\n",
       " '>4\\taraBp\\t-93.5\\n',\n",
       " 'GATTATTTGCACGGCGTCACACTTTG\\n']"
      ]
     },
     "execution_count": 2,
     "metadata": {},
     "output_type": "execute_result"
    }
   ],
   "source": [
    "with lm.open_example_datafile('crp_sites.fa', print_description=False) as f:\n",
    "    raw_seqs = f.readlines()\n",
    "raw_seqs[10:20]    "
   ]
  },
  {
   "cell_type": "markdown",
   "metadata": {},
   "source": [
    "Where we have used the Logomaker method [open_example_datafile](https://logomaker.readthedocs.io/en/latest/examples_src.html#open-example-datafile) to read the sequences from a fasta file. We can clean up these raw sequences by running:"
   ]
  },
  {
   "cell_type": "code",
   "execution_count": 3,
   "metadata": {},
   "outputs": [
    {
     "name": "stdout",
     "output_type": "stream",
     "text": [
      "There are 358 sequences, all of length 26\n"
     ]
    },
    {
     "data": {
      "text/plain": [
       "['ATAAGCAGGATTTAGCTCACACTTAT',\n",
       " 'AAAAATGTGATACCAATCACAGAATA',\n",
       " 'ATATTGGTGATCCATAAAACAATATT',\n",
       " 'ATATTGGTGAGGAACTTAACAATATT',\n",
       " 'GATTATTTGCACGGCGTCACACTTTG']"
      ]
     },
     "execution_count": 3,
     "metadata": {},
     "output_type": "execute_result"
    }
   ],
   "source": [
    "seqs = [seq.strip() for seq in raw_seqs if ('#' not in seq) and ('>') not in seq]\n",
    "# preview sequences\n",
    "print('There are %d sequences, all of length %d'%(len(seqs), len(seqs[0])))\n",
    "seqs[:5]"
   ]
  },
  {
   "cell_type": "markdown",
   "metadata": {},
   "source": [
    "Once in this form, we can use Logomaker's [Alignment_to_Matrix](https://logomaker.readthedocs.io/en/latest/matrix.html#alignment-to-matrix) method to generate a counts dataframe, which can be input to Logomaker"
   ]
  },
  {
   "cell_type": "code",
   "execution_count": 4,
   "metadata": {},
   "outputs": [
    {
     "data": {
      "text/html": [
       "<div>\n",
       "<style scoped>\n",
       "    .dataframe tbody tr th:only-of-type {\n",
       "        vertical-align: middle;\n",
       "    }\n",
       "\n",
       "    .dataframe tbody tr th {\n",
       "        vertical-align: top;\n",
       "    }\n",
       "\n",
       "    .dataframe thead th {\n",
       "        text-align: right;\n",
       "    }\n",
       "</style>\n",
       "<table border=\"1\" class=\"dataframe\">\n",
       "  <thead>\n",
       "    <tr style=\"text-align: right;\">\n",
       "      <th></th>\n",
       "      <th>A</th>\n",
       "      <th>C</th>\n",
       "      <th>G</th>\n",
       "      <th>T</th>\n",
       "    </tr>\n",
       "    <tr>\n",
       "      <th>pos</th>\n",
       "      <th></th>\n",
       "      <th></th>\n",
       "      <th></th>\n",
       "      <th></th>\n",
       "    </tr>\n",
       "  </thead>\n",
       "  <tbody>\n",
       "    <tr>\n",
       "      <th>0</th>\n",
       "      <td>133.0</td>\n",
       "      <td>65.0</td>\n",
       "      <td>72.0</td>\n",
       "      <td>88.0</td>\n",
       "    </tr>\n",
       "    <tr>\n",
       "      <th>1</th>\n",
       "      <td>147.0</td>\n",
       "      <td>46.0</td>\n",
       "      <td>58.0</td>\n",
       "      <td>107.0</td>\n",
       "    </tr>\n",
       "    <tr>\n",
       "      <th>2</th>\n",
       "      <td>166.0</td>\n",
       "      <td>26.0</td>\n",
       "      <td>38.0</td>\n",
       "      <td>128.0</td>\n",
       "    </tr>\n",
       "    <tr>\n",
       "      <th>3</th>\n",
       "      <td>164.0</td>\n",
       "      <td>28.0</td>\n",
       "      <td>43.0</td>\n",
       "      <td>123.0</td>\n",
       "    </tr>\n",
       "    <tr>\n",
       "      <th>4</th>\n",
       "      <td>133.0</td>\n",
       "      <td>45.0</td>\n",
       "      <td>47.0</td>\n",
       "      <td>133.0</td>\n",
       "    </tr>\n",
       "  </tbody>\n",
       "</table>\n",
       "</div>"
      ],
      "text/plain": [
       "         A     C     G      T\n",
       "pos                          \n",
       "0    133.0  65.0  72.0   88.0\n",
       "1    147.0  46.0  58.0  107.0\n",
       "2    166.0  26.0  38.0  128.0\n",
       "3    164.0  28.0  43.0  123.0\n",
       "4    133.0  45.0  47.0  133.0"
      ]
     },
     "execution_count": 4,
     "metadata": {},
     "output_type": "execute_result"
    }
   ],
   "source": [
    "counts_mat = lm.alignment_to_matrix(seqs)\n",
    "counts_mat.head()"
   ]
  },
  {
   "cell_type": "markdown",
   "metadata": {},
   "source": [
    "Entering the counts matrix into The Logo class draws a counts logo:"
   ]
  },
  {
   "cell_type": "code",
   "execution_count": null,
   "metadata": {},
   "outputs": [
    {
     "data": {
      "text/plain": [
       "<logomaker.src.Logo.Logo at 0x1113bd588>"
      ]
     },
     "execution_count": 5,
     "metadata": {},
     "output_type": "execute_result"
    },
    {
     "data": {
      "image/png": "[encoded data removed]",
      "text/plain": [
       "<Figure size 720x180 with 1 Axes>"
      ]
     },
     "metadata": {
      "needs_background": "light"
     },
     "output_type": "display_data"
    }
   ],
   "source": [
    "lm.Logo(counts_mat)"
   ]
  },
  {
   "cell_type": "markdown",
   "metadata": {},
   "source": [
    "## Multiple Sequence Alignment With Gaps"
   ]
  },
  {
   "cell_type": "markdown",
   "metadata": {},
   "source": [
    "Logomaker maker is able to load alignments with gaps in them. We load the WW domain protein alignment ([2](#WWdomain))"
   ]
  },
  {
   "cell_type": "code",
   "execution_count": null,
   "metadata": {},
   "outputs": [
    {
     "name": "stdout",
     "output_type": "stream",
     "text": [
      "# \n",
      "# WW domain alignment in FASTA format.\n",
      "# From PFAM, RP15 (4025)\n",
      "# http://pfam.xfam.org/family/PF00397#tabview=tab3\n",
      "# \n",
      "# References\n",
      "# \n",
      "# Finn RD et al. (2014) Pfam: the protein families database.\n",
      "# Nucl Acids Res. 42(Database issue):D222–30.\n",
      "# \n",
      ">B7G9D5/250-280\n",
      "LPPQW..TEA.VDVDT...GKFYFVHVET.......KETRWERP\n",
      ">B7G9D5/328-356\n",
      "--PGW..TAT.VDPAS...GRTYYYHAAT.......GETRWEPP\n",
      ">B7G9D5/387-417\n",
      "LPSGW..VEQ.TDPSS...GRPYYYHNAS.......NLTQWERP\n",
      ">B7G9D5/503-533\n",
      "LPAGW..VAA.NDPSS...GRTYYYHAES.......GVTSWNPP\n",
      ">B7G9D5/626-656\n",
      "LPNGW..QEL.VDPSS...GSTYYYNEVN.......GTTSWDRP\n",
      "\n"
     ]
    }
   ],
   "source": [
    "# load ww alignment\n",
    "with lm.open_example_datafile('ww_sequences.fa', print_description=False) as f:\n",
    "    lines = f.readlines()\n",
    "    \n",
    "# preview loaded file\n",
    "print(''.join(lines[:20]))"
   ]
  },
  {
   "cell_type": "markdown",
   "metadata": {},
   "source": [
    "As before, we clean up the sequences as follows:"
   ]
  },
  {
   "cell_type": "code",
   "execution_count": null,
   "metadata": {},
   "outputs": [
    {
     "name": "stdout",
     "output_type": "stream",
     "text": [
      "There are 4025 sequences, all of length 44\n"
     ]
    },
    {
     "data": {
      "text/plain": [
       "['LPPQW..TEA.VDVDT...GKFYFVHVET.......KETRWERP',\n",
       " '--PGW..TAT.VDPAS...GRTYYYHAAT.......GETRWEPP',\n",
       " 'LPSGW..VEQ.TDPSS...GRPYYYHNAS.......NLTQWERP',\n",
       " 'LPAGW..VAA.NDPSS...GRTYYYHAES.......GVTSWNPP',\n",
       " 'LPNGW..QEL.VDPSS...GSTYYYNEVN.......GTTSWDRP',\n",
       " 'LPEGW..VEL.VHESS...GKTYYFHAED.......NVTSWEQP',\n",
       " 'LPQGW..IEA.VDPST...EATYYINEVE.......GITSWERP',\n",
       " 'LPPGW..AKL.THPDS...GDAYYYNEAT.......NATSWDIP',\n",
       " '--TGW..EAL.VDEAS...GAIYYYNKLD.......GTSSWERP',\n",
       " 'LPEGW..IEV.MDPNS...GSVYYFNEVD.......GTSSWDKP']"
      ]
     },
     "execution_count": 7,
     "metadata": {},
     "output_type": "execute_result"
    }
   ],
   "source": [
    "# extract ww domain sequences\n",
    "seqs = [seq.strip().upper() for seq in lines if ('#' not in seq) and ('>') not in seq]\n",
    "\n",
    "# preview sequences\n",
    "# Preview sequences\n",
    "print('There are %d sequences, all of length %d'%(len(seqs), len(seqs[0])))\n",
    "seqs[:10]"
   ]
  },
  {
   "cell_type": "markdown",
   "metadata": {},
   "source": [
    "We load the alignment as a count matrix, again by using [Alignment_to_Matrix](https://logomaker.readthedocs.io/en/latest/matrix.html#alignment-to-matrix). Note the use of the keyword argument `characters_to_ignore`: Logomaker can be told to ignore certain characters in sequences. "
   ]
  },
  {
   "cell_type": "code",
   "execution_count": null,
   "metadata": {},
   "outputs": [
    {
     "data": {
      "text/html": [
       "<div>\n",
       "<style scoped>\n",
       "    .dataframe tbody tr th:only-of-type {\n",
       "        vertical-align: middle;\n",
       "    }\n",
       "\n",
       "    .dataframe tbody tr th {\n",
       "        vertical-align: top;\n",
       "    }\n",
       "\n",
       "    .dataframe thead th {\n",
       "        text-align: right;\n",
       "    }\n",
       "</style>\n",
       "<table border=\"1\" class=\"dataframe\">\n",
       "  <thead>\n",
       "    <tr style=\"text-align: right;\">\n",
       "      <th></th>\n",
       "      <th>A</th>\n",
       "      <th>C</th>\n",
       "      <th>D</th>\n",
       "      <th>E</th>\n",
       "      <th>F</th>\n",
       "      <th>G</th>\n",
       "      <th>H</th>\n",
       "      <th>I</th>\n",
       "      <th>K</th>\n",
       "      <th>L</th>\n",
       "      <th>M</th>\n",
       "      <th>N</th>\n",
       "      <th>P</th>\n",
       "      <th>Q</th>\n",
       "      <th>R</th>\n",
       "      <th>S</th>\n",
       "      <th>T</th>\n",
       "      <th>V</th>\n",
       "      <th>W</th>\n",
       "      <th>Y</th>\n",
       "    </tr>\n",
       "    <tr>\n",
       "      <th>pos</th>\n",
       "      <th></th>\n",
       "      <th></th>\n",
       "      <th></th>\n",
       "      <th></th>\n",
       "      <th></th>\n",
       "      <th></th>\n",
       "      <th></th>\n",
       "      <th></th>\n",
       "      <th></th>\n",
       "      <th></th>\n",
       "      <th></th>\n",
       "      <th></th>\n",
       "      <th></th>\n",
       "      <th></th>\n",
       "      <th></th>\n",
       "      <th></th>\n",
       "      <th></th>\n",
       "      <th></th>\n",
       "      <th></th>\n",
       "      <th></th>\n",
       "    </tr>\n",
       "  </thead>\n",
       "  <tbody>\n",
       "    <tr>\n",
       "      <th>0</th>\n",
       "      <td>0.0</td>\n",
       "      <td>0.0</td>\n",
       "      <td>0.0</td>\n",
       "      <td>0.0</td>\n",
       "      <td>0.0</td>\n",
       "      <td>0.0</td>\n",
       "      <td>0.0</td>\n",
       "      <td>0.0</td>\n",
       "      <td>0.0</td>\n",
       "      <td>2521.0</td>\n",
       "      <td>0.0</td>\n",
       "      <td>0.0</td>\n",
       "      <td>0.0</td>\n",
       "      <td>0.0</td>\n",
       "      <td>0.0</td>\n",
       "      <td>0.0</td>\n",
       "      <td>0.0</td>\n",
       "      <td>42.0</td>\n",
       "      <td>0.0</td>\n",
       "      <td>0.0</td>\n",
       "    </tr>\n",
       "    <tr>\n",
       "      <th>1</th>\n",
       "      <td>24.0</td>\n",
       "      <td>0.0</td>\n",
       "      <td>0.0</td>\n",
       "      <td>14.0</td>\n",
       "      <td>4.0</td>\n",
       "      <td>8.0</td>\n",
       "      <td>9.0</td>\n",
       "      <td>0.0</td>\n",
       "      <td>4.0</td>\n",
       "      <td>8.0</td>\n",
       "      <td>0.0</td>\n",
       "      <td>8.0</td>\n",
       "      <td>2651.0</td>\n",
       "      <td>15.0</td>\n",
       "      <td>2.0</td>\n",
       "      <td>9.0</td>\n",
       "      <td>2.0</td>\n",
       "      <td>1.0</td>\n",
       "      <td>0.0</td>\n",
       "      <td>0.0</td>\n",
       "    </tr>\n",
       "    <tr>\n",
       "      <th>2</th>\n",
       "      <td>319.0</td>\n",
       "      <td>56.0</td>\n",
       "      <td>280.0</td>\n",
       "      <td>425.0</td>\n",
       "      <td>21.0</td>\n",
       "      <td>62.0</td>\n",
       "      <td>57.0</td>\n",
       "      <td>7.0</td>\n",
       "      <td>76.0</td>\n",
       "      <td>60.0</td>\n",
       "      <td>9.0</td>\n",
       "      <td>64.0</td>\n",
       "      <td>999.0</td>\n",
       "      <td>94.0</td>\n",
       "      <td>40.0</td>\n",
       "      <td>365.0</td>\n",
       "      <td>106.0</td>\n",
       "      <td>35.0</td>\n",
       "      <td>3.0</td>\n",
       "      <td>70.0</td>\n",
       "    </tr>\n",
       "    <tr>\n",
       "      <th>3</th>\n",
       "      <td>112.0</td>\n",
       "      <td>0.0</td>\n",
       "      <td>201.0</td>\n",
       "      <td>149.0</td>\n",
       "      <td>6.0</td>\n",
       "      <td>2320.0</td>\n",
       "      <td>49.0</td>\n",
       "      <td>3.0</td>\n",
       "      <td>31.0</td>\n",
       "      <td>22.0</td>\n",
       "      <td>4.0</td>\n",
       "      <td>243.0</td>\n",
       "      <td>320.0</td>\n",
       "      <td>45.0</td>\n",
       "      <td>10.0</td>\n",
       "      <td>50.0</td>\n",
       "      <td>3.0</td>\n",
       "      <td>15.0</td>\n",
       "      <td>0.0</td>\n",
       "      <td>2.0</td>\n",
       "    </tr>\n",
       "    <tr>\n",
       "      <th>4</th>\n",
       "      <td>0.0</td>\n",
       "      <td>0.0</td>\n",
       "      <td>0.0</td>\n",
       "      <td>0.0</td>\n",
       "      <td>6.0</td>\n",
       "      <td>0.0</td>\n",
       "      <td>0.0</td>\n",
       "      <td>0.0</td>\n",
       "      <td>0.0</td>\n",
       "      <td>1.0</td>\n",
       "      <td>0.0</td>\n",
       "      <td>0.0</td>\n",
       "      <td>0.0</td>\n",
       "      <td>0.0</td>\n",
       "      <td>1.0</td>\n",
       "      <td>0.0</td>\n",
       "      <td>0.0</td>\n",
       "      <td>1.0</td>\n",
       "      <td>3880.0</td>\n",
       "      <td>48.0</td>\n",
       "    </tr>\n",
       "  </tbody>\n",
       "</table>\n",
       "</div>"
      ],
      "text/plain": [
       "         A     C      D      E     F       G     H    I     K       L    M  \\\n",
       "pos                                                                          \n",
       "0      0.0   0.0    0.0    0.0   0.0     0.0   0.0  0.0   0.0  2521.0  0.0   \n",
       "1     24.0   0.0    0.0   14.0   4.0     8.0   9.0  0.0   4.0     8.0  0.0   \n",
       "2    319.0  56.0  280.0  425.0  21.0    62.0  57.0  7.0  76.0    60.0  9.0   \n",
       "3    112.0   0.0  201.0  149.0   6.0  2320.0  49.0  3.0  31.0    22.0  4.0   \n",
       "4      0.0   0.0    0.0    0.0   6.0     0.0   0.0  0.0   0.0     1.0  0.0   \n",
       "\n",
       "         N       P     Q     R      S      T     V       W     Y  \n",
       "pos                                                               \n",
       "0      0.0     0.0   0.0   0.0    0.0    0.0  42.0     0.0   0.0  \n",
       "1      8.0  2651.0  15.0   2.0    9.0    2.0   1.0     0.0   0.0  \n",
       "2     64.0   999.0  94.0  40.0  365.0  106.0  35.0     3.0  70.0  \n",
       "3    243.0   320.0  45.0  10.0   50.0    3.0  15.0     0.0   2.0  \n",
       "4      0.0     0.0   0.0   1.0    0.0    0.0   1.0  3880.0  48.0  "
      ]
     },
     "execution_count": 8,
     "metadata": {},
     "output_type": "execute_result"
    }
   ],
   "source": [
    "# create counts matrix\n",
    "ww_counts_df = lm.alignment_to_matrix(sequences=seqs, to_type='counts', characters_to_ignore='.-X')\n",
    "\n",
    "# preview counts dataframe\n",
    "ww_counts_df.head()"
   ]
  },
  {
   "cell_type": "markdown",
   "metadata": {},
   "source": [
    "The full counts logo looks like:"
   ]
  },
  {
   "cell_type": "code",
   "execution_count": null,
   "metadata": {},
   "outputs": [],
   "source": [
    "# show full ww counts\n",
    "lm.Logo(ww_counts_df)"
   ]
  },
  {
   "cell_type": "markdown",
   "metadata": {},
   "source": [
    "We can create a cropped logo by running the snippet below:"
   ]
  },
  {
   "cell_type": "code",
   "execution_count": null,
   "metadata": {
    "collapsed": true
   },
   "outputs": [],
   "source": [
    "# filter base on counts\n",
    "num_seqs = ww_counts_df.sum(axis=1)\n",
    "pos_to_keep = num_seqs > len(seqs)/2\n",
    "ww_counts_df = ww_counts_df[pos_to_keep]\n",
    "ww_counts_df.reset_index(drop=True, inplace=True)"
   ]
  },
  {
   "cell_type": "markdown",
   "metadata": {},
   "source": [
    "The cropped logo now looks like:"
   ]
  },
  {
   "cell_type": "code",
   "execution_count": null,
   "metadata": {},
   "outputs": [],
   "source": [
    "# show cropped ww counts logo\n",
    "lm.Logo(ww_counts_df)"
   ]
  },
  {
   "cell_type": "markdown",
   "metadata": {},
   "source": [
    "# References"
   ]
  },
  {
   "cell_type": "markdown",
   "metadata": {},
   "source": [
    "<a id='crpsitesfa'></a>\n",
    "[1] Salgado H, et al. (2013) `RegulonDB v8.0: omics data sets, evolutionary conservation, regulatory phrases, cross-validated gold standards and more.` Nucl Acids Res. 41 (Database issue):D203-13.\n",
    "\n",
    "<a id='WWdomain'></a>\n",
    "[2] Finn RD et al. (2014) Pfam: the protein families database. Nucl Acids Res. 42(Database issue):D222–30."
   ]
  }
 ],
 "metadata": {
  "kernelspec": {
   "display_name": "Python 3",
   "language": "python",
   "name": "python3"
  },
  "language_info": {
   "codemirror_mode": {
    "name": "ipython",
    "version": 3
   },
   "file_extension": ".py",
   "mimetype": "text/x-python",
   "name": "python",
   "nbconvert_exporter": "python",
   "pygments_lexer": "ipython3",
   "version": "3.6.7"
  }
 },
 "nbformat": 4,
 "nbformat_minor": 2
}
