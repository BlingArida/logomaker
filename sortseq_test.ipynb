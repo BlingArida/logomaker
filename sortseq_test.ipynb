{
 "cells": [
  {
   "cell_type": "code",
   "execution_count": 1,
   "metadata": {
    "collapsed": false
   },
   "outputs": [],
   "source": [
    "from __future__ import division\n",
    "import numpy as np\n",
    "import scipy as sp\n",
    "import matplotlib.pyplot as plt\n",
    "import pandas as pd\n",
    "\n",
    "# Import LogoMaker\n",
    "import logomaker\n",
    "\n",
    "%matplotlib inline\n",
    "plt.ion()"
   ]
  },
  {
   "cell_type": "code",
   "execution_count": 2,
   "metadata": {
    "collapsed": false
   },
   "outputs": [],
   "source": [
    "# Read in sortseq data\n",
    "wtseq = 'AATTAATGTGAGTTAGCTCACTCATTAGGCACCCCAGGCTTTACACTTTATGCTTCCGGCTCGTATGTTGTGTGG'\n",
    "L = len(wtseq)\n",
    "poss = range(-L,0)\n",
    "df_wt = pd.read_csv('data/full-wt-formatted.txt', delim_whitespace=True)\n",
    "df_0 = pd.read_csv('data/full-0-formatted.txt', delim_whitespace=True)"
   ]
  },
  {
   "cell_type": "code",
   "execution_count": 3,
   "metadata": {
    "collapsed": false
   },
   "outputs": [],
   "source": [
    "parameters_text = \"\"\"\n",
    "colors : 'deepskyblue'\n",
    "logo_type : 'energy'\n",
    "axes_style : 'vlines'\n",
    "highlight_sequence : 'AATTAATGTGAGTTAGCTCACTCATTAGGCACCCCAGGCTTTACACTTTATGCTTCCGGCTCGTATGTTGTGTGG'\n",
    "vline_color : 'gray'\n",
    "xtick_spacing : 10\n",
    "xtick_anchor : 5\n",
    "vline_width : .5\n",
    "highlight_colors : 'tomato'\n",
    "font_family : 'sans-serif'\n",
    "font_weight : 'heavy'\n",
    "width : .9\n",
    "vpad : .1\n",
    "use_position_range : [-75,-44]\n",
    "\"\"\"\n",
    "style_file = 'parameters_file.txt'\n",
    "with open(style_file,'w') as f:\n",
    "    f.write(parameters_text)"
   ]
  },
  {
   "cell_type": "code",
   "execution_count": 4,
   "metadata": {
    "collapsed": false
   },
   "outputs": [],
   "source": [
    "# Load counts matrix from files\n",
    "counts_wt_mat = logomaker.load_alignment(sequences=df_wt['seq'], sequence_counts=df_wt['ct_9'], positions=poss)\n",
    "counts_0_mat = logomaker.load_alignment(sequences=df_0['seq'], sequence_counts=df_0['ct_4'], positions=poss)\n",
    "bg_mat = logomaker.load_alignment(sequences=df_wt['seq'], sequence_counts=df_wt['ct_0'], positions=poss)"
   ]
  },
  {
   "cell_type": "code",
   "execution_count": 5,
   "metadata": {
    "collapsed": false
   },
   "outputs": [
    {
     "ename": "TypeError",
     "evalue": "only integer scalar arrays can be converted to a scalar index",
     "output_type": "error",
     "traceback": [
      "\u001b[0;31m---------------------------------------------------------------------------\u001b[0m",
      "\u001b[0;31mTypeError\u001b[0m                                 Traceback (most recent call last)",
      "\u001b[0;32m<ipython-input-5-87bb067de99d>\u001b[0m in \u001b[0;36m<module>\u001b[0;34m()\u001b[0m\n\u001b[1;32m      1\u001b[0m \u001b[0;31m# Make logos\u001b[0m\u001b[0;34m\u001b[0m\u001b[0;34m\u001b[0m\u001b[0m\n\u001b[0;32m----> 2\u001b[0;31m \u001b[0mlogo1\u001b[0m \u001b[0;34m=\u001b[0m \u001b[0mlogomaker\u001b[0m\u001b[0;34m.\u001b[0m\u001b[0mmake_styled_logo\u001b[0m\u001b[0;34m(\u001b[0m\u001b[0mstyle_file\u001b[0m\u001b[0;34m=\u001b[0m\u001b[0mstyle_file\u001b[0m\u001b[0;34m,\u001b[0m \u001b[0mprint_params\u001b[0m\u001b[0;34m=\u001b[0m\u001b[0mFalse\u001b[0m\u001b[0;34m,\u001b[0m \u001b[0mmatrix\u001b[0m\u001b[0;34m=\u001b[0m\u001b[0mcounts_wt_mat\u001b[0m\u001b[0;34m,\u001b[0m \u001b[0mbackground\u001b[0m\u001b[0;34m=\u001b[0m\u001b[0mbg_mat\u001b[0m\u001b[0;34m)\u001b[0m\u001b[0;34m\u001b[0m\u001b[0m\n\u001b[0m\u001b[1;32m      3\u001b[0m \u001b[0mlogo2\u001b[0m \u001b[0;34m=\u001b[0m \u001b[0mlogomaker\u001b[0m\u001b[0;34m.\u001b[0m\u001b[0mmake_styled_logo\u001b[0m\u001b[0;34m(\u001b[0m\u001b[0mstyle_file\u001b[0m\u001b[0;34m=\u001b[0m\u001b[0mstyle_file\u001b[0m\u001b[0;34m,\u001b[0m \u001b[0mprint_params\u001b[0m\u001b[0;34m=\u001b[0m\u001b[0mFalse\u001b[0m\u001b[0;34m,\u001b[0m \u001b[0mmatrix\u001b[0m\u001b[0;34m=\u001b[0m\u001b[0mcounts_0_mat\u001b[0m\u001b[0;34m,\u001b[0m \u001b[0mbackground\u001b[0m\u001b[0;34m=\u001b[0m\u001b[0mbg_mat\u001b[0m\u001b[0;34m)\u001b[0m\u001b[0;34m\u001b[0m\u001b[0m\n",
      "\u001b[0;32m/Users/jkinney/github/anylogo/logomaker.py\u001b[0m in \u001b[0;36mmake_styled_logo\u001b[0;34m(style_file, print_params, print_warnings, *args, **user_kwargs)\u001b[0m\n\u001b[1;32m    903\u001b[0m \u001b[0;34m\u001b[0m\u001b[0m\n\u001b[1;32m    904\u001b[0m     \u001b[0;31m# Make logo\u001b[0m\u001b[0;34m\u001b[0m\u001b[0;34m\u001b[0m\u001b[0m\n\u001b[0;32m--> 905\u001b[0;31m     \u001b[0mlogo\u001b[0m \u001b[0;34m=\u001b[0m \u001b[0mmake_logo\u001b[0m\u001b[0;34m(\u001b[0m\u001b[0;34m*\u001b[0m\u001b[0margs\u001b[0m\u001b[0;34m,\u001b[0m \u001b[0;34m**\u001b[0m\u001b[0mkwargs\u001b[0m\u001b[0;34m)\u001b[0m\u001b[0;34m\u001b[0m\u001b[0m\n\u001b[0m\u001b[1;32m    906\u001b[0m \u001b[0;34m\u001b[0m\u001b[0m\n\u001b[1;32m    907\u001b[0m     \u001b[0;31m# Return logo to user\u001b[0m\u001b[0;34m\u001b[0m\u001b[0;34m\u001b[0m\u001b[0m\n",
      "\u001b[0;32m/Users/jkinney/github/anylogo/logomaker.py\u001b[0m in \u001b[0;36mmake_logo\u001b[0;34m(matrix, matrix_type, logo_type, background, pseudocount, energy_gamma, energy_units, enrichment_logbase, information_units, positions, use_positions, use_position_range, colors, characters, alpha, edgecolors, edgewidth, boxcolors, boxalpha, highlight_sequence, highlight_colors, highlight_alpha, highlight_edgecolors, highlight_edgewidth, highlight_boxcolors, highlight_boxalpha, hpad, vpad, axes_style, font_family, font_weight, font_file, font_style, font_properties, stack_order, use_transparency, max_alpha_val, below_shade, below_alpha, below_flip, baseline_width, vline_width, vline_color, width, xlim, xticks, xtick_spacing, xtick_anchor, xtick_format, xticklabels, xlabel, ylim, yticks, yticklabels, ylabel)\u001b[0m\n\u001b[1;32m    420\u001b[0m \u001b[0;34m\u001b[0m\u001b[0m\n\u001b[1;32m    421\u001b[0m     \u001b[0;31m# Create Logo instance and set logo_type\u001b[0m\u001b[0;34m\u001b[0m\u001b[0;34m\u001b[0m\u001b[0m\n\u001b[0;32m--> 422\u001b[0;31m     \u001b[0mlogo\u001b[0m \u001b[0;34m=\u001b[0m \u001b[0mLogo\u001b[0m\u001b[0;34m(\u001b[0m\u001b[0;34m**\u001b[0m\u001b[0mkwargs_for_logo\u001b[0m\u001b[0;34m)\u001b[0m\u001b[0;34m\u001b[0m\u001b[0m\n\u001b[0m\u001b[1;32m    423\u001b[0m     \u001b[0mlogo\u001b[0m\u001b[0;34m.\u001b[0m\u001b[0mlogo_type\u001b[0m \u001b[0;34m=\u001b[0m \u001b[0mlogo_type\u001b[0m\u001b[0;34m\u001b[0m\u001b[0m\n\u001b[1;32m    424\u001b[0m \u001b[0;34m\u001b[0m\u001b[0m\n",
      "\u001b[0;32m/Users/jkinney/github/anylogo/logomaker.py\u001b[0m in \u001b[0;36m__init__\u001b[0;34m(self, matrix, colors, characters, alpha, edgecolors, edgewidth, boxcolors, boxalpha, positions, use_positions, use_position_range, highlight_sequence, highlight_colors, highlight_alpha, highlight_edgecolors, highlight_edgewidth, highlight_boxcolors, highlight_boxalpha, hpad, vpad, axes_style, font_family, font_weight, font_file, font_style, font_properties, stack_order, use_transparency, max_alpha_val, below_shade, below_alpha, below_flip, baseline_width, vline_width, vline_color, width, xlim, xticks, xtick_spacing, xtick_anchor, xtick_format, xticklabels, xlabel, ylim, yticks, yticklabels, ylabel)\u001b[0m\n\u001b[1;32m    552\u001b[0m \u001b[0;34m\u001b[0m\u001b[0m\n\u001b[1;32m    553\u001b[0m         \u001b[0;31m# Trim df, highlight_sequence, etc. accordingly\u001b[0m\u001b[0;34m\u001b[0m\u001b[0;34m\u001b[0m\u001b[0m\n\u001b[0;32m--> 554\u001b[0;31m         \u001b[0mself\u001b[0m\u001b[0;34m.\u001b[0m\u001b[0mhighlight_sequence\u001b[0m \u001b[0;34m=\u001b[0m \u001b[0mself\u001b[0m\u001b[0;34m.\u001b[0m\u001b[0mhighlight_sequence\u001b[0m\u001b[0;34m[\u001b[0m\u001b[0mindices\u001b[0m\u001b[0;34m]\u001b[0m\u001b[0;34m\u001b[0m\u001b[0m\n\u001b[0m\u001b[1;32m    555\u001b[0m         \u001b[0mself\u001b[0m\u001b[0;34m.\u001b[0m\u001b[0mdf\u001b[0m \u001b[0;34m=\u001b[0m \u001b[0mself\u001b[0m\u001b[0;34m.\u001b[0m\u001b[0mdf\u001b[0m\u001b[0;34m.\u001b[0m\u001b[0mloc\u001b[0m\u001b[0;34m[\u001b[0m\u001b[0mindices\u001b[0m\u001b[0;34m,\u001b[0m \u001b[0;34m:\u001b[0m\u001b[0;34m]\u001b[0m\u001b[0;34m\u001b[0m\u001b[0m\n\u001b[1;32m    556\u001b[0m         \u001b[0mself\u001b[0m\u001b[0;34m.\u001b[0m\u001b[0mposs\u001b[0m \u001b[0;34m=\u001b[0m \u001b[0mself\u001b[0m\u001b[0;34m.\u001b[0m\u001b[0mposs\u001b[0m\u001b[0;34m[\u001b[0m\u001b[0mindices\u001b[0m\u001b[0;34m]\u001b[0m\u001b[0;34m\u001b[0m\u001b[0m\n",
      "\u001b[0;31mTypeError\u001b[0m: only integer scalar arrays can be converted to a scalar index"
     ]
    }
   ],
   "source": [
    "# Make logos\n",
    "logo1 = logomaker.make_styled_logo(style_file=style_file, print_params=False, matrix=counts_wt_mat, background=bg_mat)\n",
    "logo2 = logomaker.make_styled_logo(style_file=style_file, print_params=False, matrix=counts_0_mat, background=bg_mat)"
   ]
  },
  {
   "cell_type": "code",
   "execution_count": null,
   "metadata": {
    "collapsed": false
   },
   "outputs": [],
   "source": [
    "fig, axs = plt.subplots(2, figsize=[10,4])\n",
    "logo1.draw(axs[0])\n",
    "axs[0].set_title('+ cAMP')\n",
    "\n",
    "logo2.draw(axs[1])\n",
    "axs[1].set_title('- cAMP')\n",
    "\n",
    "fig.tight_layout()"
   ]
  },
  {
   "cell_type": "code",
   "execution_count": null,
   "metadata": {
    "collapsed": true
   },
   "outputs": [],
   "source": []
  }
 ],
 "metadata": {
  "kernelspec": {
   "display_name": "Python 2",
   "language": "python",
   "name": "python2"
  },
  "language_info": {
   "codemirror_mode": {
    "name": "ipython",
    "version": 2
   },
   "file_extension": ".py",
   "mimetype": "text/x-python",
   "name": "python",
   "nbconvert_exporter": "python",
   "pygments_lexer": "ipython2",
   "version": "2.7.11"
  }
 },
 "nbformat": 4,
 "nbformat_minor": 0
}
