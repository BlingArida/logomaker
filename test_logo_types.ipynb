{
 "cells": [
  {
   "cell_type": "code",
   "execution_count": 1,
   "metadata": {
    "collapsed": false
   },
   "outputs": [],
   "source": [
    "from __future__ import division\n",
    "import numpy as np\n",
    "import scipy as sp\n",
    "import matplotlib.pyplot as plt\n",
    "import pandas as pd\n",
    "\n",
    "# Import LogoMaker\n",
    "import logomaker\n",
    "\n",
    "%matplotlib inline\n",
    "plt.ion()"
   ]
  },
  {
   "cell_type": "code",
   "execution_count": null,
   "metadata": {
    "collapsed": true
   },
   "outputs": [],
   "source": [
    "# Load counts matrix from fasta file\n",
    "counts_mat = logomaker.load_alignment(file_name='crp_sites.fasta')"
   ]
  },
  {
   "cell_type": "code",
   "execution_count": null,
   "metadata": {
    "collapsed": false,
    "scrolled": true
   },
   "outputs": [
    {
     "name": "stdout",
     "output_type": "stream",
     "text": [
      "[set] logo_type = 'energy'\n",
      "[set] colors = 'classic'\n",
      "[set] hpad = .1\n",
      "[set] vpad = .1\n",
      "[set] below_flip = True\n",
      "Warning: could not parse line \"foo bar\".\n",
      "Warning: could not set parameter \"virus\" because could not interpret \"eval(x=5)\" as literal.\n",
      "[set] highlight_edgecolors = 'black'\n",
      "[set] highlight_edgewidth = 1\n",
      "[set] highlight_sequence = 'ATTAATGTGAGTTAGCTCACTCATTA'\n",
      "> /Users/jkinney/github/anylogo/character.py(98)put_char_in_box()\n",
      "-> char_patch = PathPatch(char_path, facecolor=facecolor, edgecolor=edgecolor,\n"
     ]
    }
   ],
   "source": [
    "# Make all logo types\n",
    "wtseq = 'ATTAATGTGAGTTAGCTCACTCATTA'\n",
    "\n",
    "parameters_txt = \"\"\"\n",
    "logo_type : 'energy'\n",
    "colors : 'classic'\n",
    "hpad : .1\n",
    "vpad : .1\n",
    "below_flip : True\n",
    "foo bar\n",
    "virus : eval(x=5)\n",
    "highlight_edgecolors : 'black'\n",
    "highlight_edgewidth : 1\n",
    "highlight_sequence : 'ATTAATGTGAGTTAGCTCACTCATTA'\n",
    "\"\"\"\n",
    "with open('parameters.txt','w') as f:\n",
    "    f.write(parameters_txt)\n",
    "\n",
    "logo1 = logomaker.make_logo(counts_mat, colors='classic', logo_type='energy', energy_units='kcal/mol')\n",
    "logo2 = logomaker.make_styled_logo('parameters.txt', counts_mat)\n",
    "\n",
    "fig, axs = plt.subplots(2, figsize=[6,3])\n",
    "\n",
    "logo1.draw(axs[0])\n",
    "logo2.draw(axs[1])\n",
    "\n",
    "fig.tight_layout()"
   ]
  },
  {
   "cell_type": "code",
   "execution_count": null,
   "metadata": {
    "collapsed": true
   },
   "outputs": [],
   "source": []
  }
 ],
 "metadata": {
  "kernelspec": {
   "display_name": "Python 2",
   "language": "python",
   "name": "python2"
  },
  "language_info": {
   "codemirror_mode": {
    "name": "ipython",
    "version": 2
   },
   "file_extension": ".py",
   "mimetype": "text/x-python",
   "name": "python",
   "nbconvert_exporter": "python",
   "pygments_lexer": "ipython2",
   "version": "2.7.11"
  }
 },
 "nbformat": 4,
 "nbformat_minor": 0
}
