{
 "cells": [
  {
   "cell_type": "code",
   "execution_count": 1,
   "metadata": {
    "collapsed": true
   },
   "outputs": [],
   "source": [
    "from __future__ import division\n",
    "import numpy as np\n",
    "import scipy as sp\n",
    "import matplotlib.pyplot as plt\n",
    "import pandas as pd\n",
    "\n",
    "# Import LogoMaker\n",
    "import logomaker\n",
    "\n",
    "%matplotlib inline\n",
    "plt.ion()"
   ]
  },
  {
   "cell_type": "code",
   "execution_count": 2,
   "metadata": {
    "collapsed": false
   },
   "outputs": [],
   "source": [
    "# Load splice site sequences and counts\n",
    "df_GT = pd.read_excel('human_splice_sites.xlsx',parse_cols=[0,1]).dropna()\n",
    "df_GC = pd.read_excel('human_splice_sites.xlsx',parse_cols=[6,7]).dropna()\n",
    "seq_list = list(df_GT.iloc[:,1]) + list(df_GC.iloc[:,1])\n",
    "counts_list = list(df_GT.iloc[:,0]) + list(df_GC.iloc[:,0])"
   ]
  },
  {
   "cell_type": "code",
   "execution_count": 14,
   "metadata": {
    "collapsed": false
   },
   "outputs": [
    {
     "data": {
      "text/html": [
       "<div>\n",
       "<table border=\"1\" class=\"dataframe\">\n",
       "  <thead>\n",
       "    <tr style=\"text-align: right;\">\n",
       "      <th></th>\n",
       "      <th>A</th>\n",
       "      <th>C</th>\n",
       "      <th>G</th>\n",
       "      <th>T</th>\n",
       "    </tr>\n",
       "    <tr>\n",
       "      <th>pos</th>\n",
       "      <th></th>\n",
       "      <th></th>\n",
       "      <th></th>\n",
       "      <th></th>\n",
       "    </tr>\n",
       "  </thead>\n",
       "  <tbody>\n",
       "    <tr>\n",
       "      <th>-3</th>\n",
       "      <td>65712.0</td>\n",
       "      <td>69955.0</td>\n",
       "      <td>37508.0</td>\n",
       "      <td>29589.0</td>\n",
       "    </tr>\n",
       "    <tr>\n",
       "      <th>-2.5</th>\n",
       "      <td>126104.0</td>\n",
       "      <td>22507.0</td>\n",
       "      <td>25802.0</td>\n",
       "      <td>28351.0</td>\n",
       "    </tr>\n",
       "    <tr>\n",
       "      <th>-1</th>\n",
       "      <td>25829.0</td>\n",
       "      <td>6317.0</td>\n",
       "      <td>153710.0</td>\n",
       "      <td>16908.0</td>\n",
       "    </tr>\n",
       "    <tr>\n",
       "      <th>1</th>\n",
       "      <td>0.0</td>\n",
       "      <td>0.0</td>\n",
       "      <td>202764.0</td>\n",
       "      <td>0.0</td>\n",
       "    </tr>\n",
       "    <tr>\n",
       "      <th>2</th>\n",
       "      <td>0.0</td>\n",
       "      <td>2633.0</td>\n",
       "      <td>0.0</td>\n",
       "      <td>200131.0</td>\n",
       "    </tr>\n",
       "  </tbody>\n",
       "</table>\n",
       "</div>"
      ],
      "text/plain": [
       "             A        C         G         T\n",
       "pos                                        \n",
       "-3     65712.0  69955.0   37508.0   29589.0\n",
       "-2.5  126104.0  22507.0   25802.0   28351.0\n",
       "-1     25829.0   6317.0  153710.0   16908.0\n",
       "1          0.0      0.0  202764.0       0.0\n",
       "2          0.0   2633.0       0.0  200131.0"
      ]
     },
     "execution_count": 14,
     "metadata": {},
     "output_type": "execute_result"
    }
   ],
   "source": [
    "# Create counts_mat\n",
    "counts_mat = logomaker.load_alignment(sequences=seq_list, \n",
    "                                      sequence_counts=counts_list, \n",
    "                                      characters='ACGT', \n",
    "                                      positions=['-3','-2.5','-1','1','2','3','4','5','6'])\n",
    "counts_mat.head()"
   ]
  },
  {
   "cell_type": "code",
   "execution_count": 15,
   "metadata": {
    "collapsed": false
   },
   "outputs": [
    {
     "data": {
      "image/png": "[encoded data removed]",
      "text/plain": [
       "<matplotlib.figure.Figure at 0x11044ecd0>"
      ]
     },
     "metadata": {},
     "output_type": "display_data"
    }
   ],
   "source": [
    "# Make all logo types\n",
    "logo = logomaker.make_logo(counts_mat, logo_type='probability', \n",
    "                          font_family='fantasy',\n",
    "                          use_transparency=True,\n",
    "                          colors='blue',\n",
    "                          stack_order='small_on_top',\n",
    "                          hpad=1,\n",
    "                          vpad=.2)\n",
    "\n",
    "# Draw logos\n",
    "fig, ax = plt.subplots(figsize=[8,2])\n",
    "logo.draw(ax)\n",
    "\n",
    "fig.tight_layout()"
   ]
  },
  {
   "cell_type": "code",
   "execution_count": null,
   "metadata": {
    "collapsed": true
   },
   "outputs": [],
   "source": []
  },
  {
   "cell_type": "code",
   "execution_count": null,
   "metadata": {
    "collapsed": true
   },
   "outputs": [],
   "source": []
  }
 ],
 "metadata": {
  "kernelspec": {
   "display_name": "Python 2",
   "language": "python",
   "name": "python2"
  },
  "language_info": {
   "codemirror_mode": {
    "name": "ipython",
    "version": 2
   },
   "file_extension": ".py",
   "mimetype": "text/x-python",
   "name": "python",
   "nbconvert_exporter": "python",
   "pygments_lexer": "ipython2",
   "version": "2.7.11"
  }
 },
 "nbformat": 4,
 "nbformat_minor": 0
}
