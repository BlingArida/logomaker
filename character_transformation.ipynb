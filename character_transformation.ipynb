{
 "cells": [
  {
   "cell_type": "code",
   "execution_count": 1,
   "metadata": {
    "collapsed": false
   },
   "outputs": [],
   "source": [
    "import matplotlib.pyplot as plt\n",
    "%matplotlib inline\n",
    "plt.ion()"
   ]
  },
  {
   "cell_type": "code",
   "execution_count": 8,
   "metadata": {
    "collapsed": false
   },
   "outputs": [
    {
     "data": {
      "text/plain": [
       "(0.0, 3.0)"
      ]
     },
     "execution_count": 8,
     "metadata": {},
     "output_type": "execute_result"
    },
    {
     "data": {
      "image/png": "[encoded data removed]",
      "text/plain": [
       "<matplotlib.figure.Figure at 0x108adc050>"
      ]
     },
     "metadata": {},
     "output_type": "display_data"
    }
   ],
   "source": [
    "from matplotlib.transforms import Affine2D, Bbox\n",
    "from matplotlib.textpath import TextPath\n",
    "from matplotlib.patches import PathPatch\n",
    "from matplotlib.font_manager import FontProperties\n",
    "\n",
    "# Set character to draw\n",
    "char = 'A'\n",
    "flip = True\n",
    "\n",
    "# Create decired bounding box for final character path\n",
    "ymin = 0.0\n",
    "xmin = -0.5\n",
    "height = 3.0\n",
    "width = 1.0\n",
    "my_bbox = Bbox.from_bounds(xmin,ymin,width,height)\n",
    "\n",
    "# Create font properties\n",
    "# font_name = character.validate_font('Comic Sans MS')\n",
    "# font_file = character.FONT_FILE_DICT[font_name]\n",
    "# font_properties = FontProperties(fname=font_file)\n",
    "\n",
    "font_properties = FontProperties(family='Times New Roman', weight='normal')\n",
    "\n",
    "# Create figure and axes object\n",
    "fig, ax = plt.subplots()\n",
    "\n",
    "# Create temporary character path object\n",
    "tmp_path = TextPath((0,0), char, size=1, prop=font_properties)\n",
    "\n",
    "# If need to flip character, do it within tmp_path\n",
    "if flip:\n",
    "    transformation = Affine2D().scale(sx=1, sy=-1)\n",
    "    tmp_path = transformation.transform_path(tmp_path)\n",
    "\n",
    "# Get bounding box for temporary character path\n",
    "tmp_bbox = tmp_path.get_extents()\n",
    "\n",
    "# THIS IS THE KEY TRANSFORMATION\n",
    "# 1. Translate character path so that lower left corner is at origin\n",
    "# 2. Scale character path to desired width and height\n",
    "# 3. Translate character path to desired position\n",
    "transformation = Affine2D()\\\n",
    "                    .translate(-tmp_bbox.xmin, -tmp_bbox.ymin)\\\n",
    "                    .scale(sx=my_bbox.width/tmp_bbox.width, sy=my_bbox.height/tmp_bbox.height)\\\n",
    "                    .translate(my_bbox.xmin,my_bbox.ymin)\n",
    "my_path = transformation.transform_path(tmp_path)\n",
    "\n",
    "# Scale to desired height and width\n",
    "patch = PathPatch(my_path, facecolor='blue', edgecolor='none')\n",
    "ax.add_patch(patch)\n",
    "ax.set_xlim([my_bbox.xmin,my_bbox.xmax])\n",
    "ax.set_ylim([my_bbox.ymin,my_bbox.ymax])\n"
   ]
  },
  {
   "cell_type": "code",
   "execution_count": 13,
   "metadata": {
    "collapsed": false
   },
   "outputs": [
    {
     "data": {
      "text/plain": [
       "Bbox([[-0.5, 0.0], [0.5, 3.0]])"
      ]
     },
     "execution_count": 13,
     "metadata": {},
     "output_type": "execute_result"
    }
   ],
   "source": [
    "my_bbox = Bbox([[xmin,ymin],[xmin+width,ymin+height]])\n",
    "my_bbox"
   ]
  },
  {
   "cell_type": "code",
   "execution_count": 4,
   "metadata": {
    "collapsed": false
   },
   "outputs": [
    {
     "ename": "NameError",
     "evalue": "name 'bbox' is not defined",
     "output_type": "error",
     "traceback": [
      "\u001b[0;31m---------------------------------------------------------------------------\u001b[0m",
      "\u001b[0;31mNameError\u001b[0m                                 Traceback (most recent call last)",
      "\u001b[0;32m<ipython-input-4-9c1eba6ce31b>\u001b[0m in \u001b[0;36m<module>\u001b[0;34m()\u001b[0m\n\u001b[0;32m----> 1\u001b[0;31m \u001b[0mbbox\u001b[0m\u001b[0;34m.\u001b[0m\u001b[0mheight\u001b[0m\u001b[0;34m\u001b[0m\u001b[0m\n\u001b[0m",
      "\u001b[0;31mNameError\u001b[0m: name 'bbox' is not defined"
     ]
    }
   ],
   "source": [
    "bbox.height"
   ]
  },
  {
   "cell_type": "code",
   "execution_count": null,
   "metadata": {
    "collapsed": false
   },
   "outputs": [],
   "source": [
    "bbox.ymin"
   ]
  },
  {
   "cell_type": "code",
   "execution_count": null,
   "metadata": {
    "collapsed": false
   },
   "outputs": [],
   "source": [
    "bbox.width"
   ]
  },
  {
   "cell_type": "code",
   "execution_count": null,
   "metadata": {
    "collapsed": false
   },
   "outputs": [],
   "source": [
    "type(bbox)"
   ]
  },
  {
   "cell_type": "code",
   "execution_count": null,
   "metadata": {
    "collapsed": true
   },
   "outputs": [],
   "source": []
  }
 ],
 "metadata": {
  "kernelspec": {
   "display_name": "Python 2",
   "language": "python",
   "name": "python2"
  },
  "language_info": {
   "codemirror_mode": {
    "name": "ipython",
    "version": 2
   },
   "file_extension": ".py",
   "mimetype": "text/x-python",
   "name": "python",
   "nbconvert_exporter": "python",
   "pygments_lexer": "ipython2",
   "version": "2.7.11"
  }
 },
 "nbformat": 4,
 "nbformat_minor": 0
}
