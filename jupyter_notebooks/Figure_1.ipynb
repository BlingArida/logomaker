{
 "cells": [
  {
   "cell_type": "code",
   "execution_count": 1,
   "metadata": {
    "collapsed": true
   },
   "outputs": [],
   "source": [
    "from __future__ import division\n",
    "import numpy as np\n",
    "import scipy as sp\n",
    "import matplotlib.pyplot as plt\n",
    "import pandas as pd\n",
    "\n",
    "import sys\n",
    "sys.path.append('../../')\n",
    "\n",
    "\n",
    "# Import LogoMaker\n",
    "import logomaker\n",
    "\n",
    "\n",
    "%matplotlib inline\n",
    "plt.ion()"
   ]
  },
  {
   "cell_type": "code",
   "execution_count": 2,
   "metadata": {},
   "outputs": [
    {
     "ename": "AttributeError",
     "evalue": "module 'logomaker' has no attribute 'load_alignment'",
     "output_type": "error",
     "traceback": [
      "\u001b[0;31m---------------------------------------------------------------------------\u001b[0m",
      "\u001b[0;31mAttributeError\u001b[0m                            Traceback (most recent call last)",
      "\u001b[0;32m<ipython-input-2-c737584df926>\u001b[0m in \u001b[0;36m<module>\u001b[0;34m()\u001b[0m\n\u001b[1;32m      1\u001b[0m \u001b[0;31m# Load counts matrix from fasta file\u001b[0m\u001b[0;34m\u001b[0m\u001b[0;34m\u001b[0m\u001b[0m\n\u001b[0;32m----> 2\u001b[0;31m \u001b[0mcounts_mat\u001b[0m \u001b[0;34m=\u001b[0m \u001b[0mlogomaker\u001b[0m\u001b[0;34m.\u001b[0m\u001b[0mload_alignment\u001b[0m\u001b[0;34m(\u001b[0m\u001b[0;34m'../data/crp_sites.fasta'\u001b[0m\u001b[0;34m)\u001b[0m\u001b[0;34m\u001b[0m\u001b[0m\n\u001b[0m\u001b[1;32m      3\u001b[0m \u001b[0mcounts_mat\u001b[0m\u001b[0;34m.\u001b[0m\u001b[0mto_csv\u001b[0m\u001b[0;34m(\u001b[0m\u001b[0;34m'../data/crp_counts.txt'\u001b[0m\u001b[0;34m,\u001b[0m \u001b[0msep\u001b[0m\u001b[0;34m=\u001b[0m\u001b[0;34m'\\t'\u001b[0m\u001b[0;34m,\u001b[0m \u001b[0mfloat_format\u001b[0m\u001b[0;34m=\u001b[0m\u001b[0;34m'%d'\u001b[0m\u001b[0;34m)\u001b[0m\u001b[0;34m\u001b[0m\u001b[0m\n",
      "\u001b[0;31mAttributeError\u001b[0m: module 'logomaker' has no attribute 'load_alignment'"
     ]
    }
   ],
   "source": [
    "# Load counts matrix from fasta file\n",
    "counts_mat = logomaker.load_alignment('../data/crp_sites.fasta')\n",
    "counts_mat.to_csv('../data/crp_counts.txt', sep='\\t', float_format='%d')"
   ]
  },
  {
   "cell_type": "code",
   "execution_count": 3,
   "metadata": {},
   "outputs": [
    {
     "ename": "AttributeError",
     "evalue": "module 'logomaker' has no attribute 'make_logo'",
     "output_type": "error",
     "traceback": [
      "\u001b[0;31m---------------------------------------------------------------------------\u001b[0m",
      "\u001b[0;31mAttributeError\u001b[0m                            Traceback (most recent call last)",
      "\u001b[0;32m<ipython-input-3-bb8fc5ee5be8>\u001b[0m in \u001b[0;36m<module>\u001b[0;34m()\u001b[0m\n\u001b[1;32m      6\u001b[0m \u001b[0;34m\u001b[0m\u001b[0m\n\u001b[1;32m      7\u001b[0m \u001b[0;31m# Make information logo\u001b[0m\u001b[0;34m\u001b[0m\u001b[0;34m\u001b[0m\u001b[0m\n\u001b[0;32m----> 8\u001b[0;31m logo1 = logomaker.make_logo(dataframe=counts_mat, \n\u001b[0m\u001b[1;32m      9\u001b[0m                        \u001b[0mmatrix_type\u001b[0m\u001b[0;34m=\u001b[0m\u001b[0;34m'information'\u001b[0m\u001b[0;34m,\u001b[0m\u001b[0;34m\u001b[0m\u001b[0m\n\u001b[1;32m     10\u001b[0m                        \u001b[0mdraw_now\u001b[0m\u001b[0;34m=\u001b[0m\u001b[0;32mFalse\u001b[0m\u001b[0;34m,\u001b[0m\u001b[0;34m\u001b[0m\u001b[0m\n",
      "\u001b[0;31mAttributeError\u001b[0m: module 'logomaker' has no attribute 'make_logo'"
     ]
    }
   ],
   "source": [
    "import matplotlib as mpl\n",
    "mpl.rcParams['lines.linewidth'] = .5\n",
    "mpl.rcParams['font.size'] = 16\n",
    "#mpl.rcParams['axes.labelsize'] = 20\n",
    "\n",
    "\n",
    "# Make information logo\n",
    "logo1 = logomaker.make_logo(dataframe=counts_mat, \n",
    "                       matrix_type='information',  \n",
    "                       draw_now=False,     \n",
    "                       ylim=[0,0.75])\n",
    "\n",
    "\n",
    "# Make frequency logo\n",
    "logo2 = logomaker.make_logo(dataframe=counts_mat, \n",
    "                       matrix_type='probability', \n",
    "                       character_style_dict={'character_colors':'blue'},\n",
    "                       axes_type='rails', \n",
    "                       stack_order='small_on_top',\n",
    "                       draw_now=False\n",
    "                        )\n",
    "\n",
    "highlight_style_param_dict = {\n",
    "                              'highlight_sequence':'ATTAATGTGAGTTAGCTCACTCATTA',   \n",
    "                              'highlight_colors':'gist_rainbow'\n",
    "                               }\n",
    "\n",
    "# Make energy logo\n",
    "logo3 = logomaker.make_logo(dataframe=counts_mat, \n",
    "                       matrix_type='counts', \n",
    "                       negate_matrix=True, \n",
    "                       axes_type='everything',\n",
    "                       character_style_dict = {'character_colors':'gray'}, \n",
    "                       highlight_style_dict = highlight_style_param_dict,\n",
    "                       draw_now=False,\n",
    "                       )\n",
    "\n",
    "\n",
    "# Draw logos\n",
    "fig, ax_list = plt.subplots(3, figsize=[12,8])\n",
    "ax_list[0].set_title('Information Logo')\n",
    "logo1.draw(ax_list[0])\n",
    "ax_list[1].set_title('Probability Logo')\n",
    "logo2.draw(ax_list[1])\n",
    "ax_list[2].set_title('Counts Logo')\n",
    "logo3.draw(ax_list[2])\n",
    "\n",
    "fig.savefig('../output/Figure1.pdf')"
   ]
  },
  {
   "cell_type": "code",
   "execution_count": null,
   "metadata": {
    "collapsed": true
   },
   "outputs": [],
   "source": []
  }
 ],
 "metadata": {
  "kernelspec": {
   "display_name": "Python 3",
   "language": "python",
   "name": "python3"
  },
  "language_info": {
   "codemirror_mode": {
    "name": "ipython",
    "version": 3
   },
   "file_extension": ".py",
   "mimetype": "text/x-python",
   "name": "python",
   "nbconvert_exporter": "python",
   "pygments_lexer": "ipython3",
   "version": "3.6.2"
  }
 },
 "nbformat": 4,
 "nbformat_minor": 1
}
