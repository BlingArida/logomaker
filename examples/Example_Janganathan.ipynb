{
 "cells": [
  {
   "cell_type": "code",
   "execution_count": 1,
   "metadata": {
    "collapsed": true
   },
   "outputs": [],
   "source": [
    "import numpy as np\n",
    "import pandas as pd\n",
    "import matplotlib.pyplot as plt\n",
    "% matplotlib inline\n",
    "plt.ion()\n",
    "\n",
    "import sys\n",
    "sys.path.append('/Users/jkinney/github/')\n",
    "import logomaker"
   ]
  },
  {
   "cell_type": "code",
   "execution_count": 2,
   "metadata": {},
   "outputs": [
    {
     "data": {
      "text/html": [
       "<div>\n",
       "<style scoped>\n",
       "    .dataframe tbody tr th:only-of-type {\n",
       "        vertical-align: middle;\n",
       "    }\n",
       "\n",
       "    .dataframe tbody tr th {\n",
       "        vertical-align: top;\n",
       "    }\n",
       "\n",
       "    .dataframe thead th {\n",
       "        text-align: right;\n",
       "    }\n",
       "</style>\n",
       "<table border=\"1\" class=\"dataframe\">\n",
       "  <thead>\n",
       "    <tr style=\"text-align: right;\">\n",
       "      <th></th>\n",
       "      <th>A</th>\n",
       "      <th>C</th>\n",
       "      <th>G</th>\n",
       "      <th>T</th>\n",
       "    </tr>\n",
       "  </thead>\n",
       "  <tbody>\n",
       "    <tr>\n",
       "      <th>0</th>\n",
       "      <td>0.064469</td>\n",
       "      <td>0.000000</td>\n",
       "      <td>0.0</td>\n",
       "      <td>0.000000</td>\n",
       "    </tr>\n",
       "    <tr>\n",
       "      <th>1</th>\n",
       "      <td>0.000000</td>\n",
       "      <td>0.119156</td>\n",
       "      <td>0.0</td>\n",
       "      <td>0.000000</td>\n",
       "    </tr>\n",
       "    <tr>\n",
       "      <th>2</th>\n",
       "      <td>0.000000</td>\n",
       "      <td>0.000000</td>\n",
       "      <td>0.0</td>\n",
       "      <td>0.288562</td>\n",
       "    </tr>\n",
       "    <tr>\n",
       "      <th>3</th>\n",
       "      <td>0.167969</td>\n",
       "      <td>0.000000</td>\n",
       "      <td>0.0</td>\n",
       "      <td>0.000000</td>\n",
       "    </tr>\n",
       "    <tr>\n",
       "      <th>4</th>\n",
       "      <td>0.159656</td>\n",
       "      <td>0.000000</td>\n",
       "      <td>0.0</td>\n",
       "      <td>0.000000</td>\n",
       "    </tr>\n",
       "  </tbody>\n",
       "</table>\n",
       "</div>"
      ],
      "text/plain": [
       "          A         C    G         T\n",
       "0  0.064469  0.000000  0.0  0.000000\n",
       "1  0.000000  0.119156  0.0  0.000000\n",
       "2  0.000000  0.000000  0.0  0.288562\n",
       "3  0.167969  0.000000  0.0  0.000000\n",
       "4  0.159656  0.000000  0.0  0.000000"
      ]
     },
     "execution_count": 2,
     "metadata": {},
     "output_type": "execute_result"
    }
   ],
   "source": [
    "# Load data\n",
    "data_df = pd.read_excel('Janganathan2018_Fig1D.xlsx')\n",
    "data_df.tail()\n",
    "\n",
    "# Get motif length\n",
    "L = len(data_df)\n",
    "\n",
    "# Get exon bounds\n",
    "exon_indices = data_df['exon']\n",
    "indices = data_df.index\n",
    "exon_start = min(indices[exon_indices])\n",
    "exon_stop = max(indices[exon_indices])\n",
    "\n",
    "# Create matrix\n",
    "bases = 'ACGT'\n",
    "C = len(bases)\n",
    "mat_df = pd.DataFrame(index=range(L),columns=list(bases),data=0)\n",
    "for p in data_df.index:\n",
    "    c = data_df.loc[p,'base']\n",
    "    v = data_df.loc[p,'value']\n",
    "    mat_df.loc[p,c] = v\n",
    "    \n",
    "# Preview matrix\n",
    "mat_df.head()"
   ]
  },
  {
   "cell_type": "code",
   "execution_count": 3,
   "metadata": {},
   "outputs": [
    {
     "data": {
      "image/png": "[encoded data removed]",
      "text/plain": [
       "<matplotlib.figure.Figure at 0x1127c38d0>"
      ]
     },
     "metadata": {},
     "output_type": "display_data"
    }
   ],
   "source": [
    "fig, ax = plt.subplots(figsize=[6.5,1.25])\n",
    "\n",
    "logo = logomaker.Logo(mat_df, ax=ax)\n",
    "logo.style_spines(visible=False)\n",
    "logo.style_spines(spines=['left'],visible=True,bounds=[0,.75])\n",
    "ax.set_yticks([0,.75])\n",
    "ax.set_yticklabels(['0','0.75'])\n",
    "ax.set_ylim([-.5,.75])\n",
    "ax.set_xticks([])\n",
    "\n",
    "# Draw gene\n",
    "y = -.2\n",
    "ax.axhline(y, color='k', linewidth=1)\n",
    "xs = np.arange(-3,L,10)\n",
    "ys = y*np.ones(len(xs))\n",
    "ax.plot(xs,ys,marker='4', linewidth=0, markersize=5, color='k')\n",
    "\n",
    "# Draw gene name\n",
    "ax.text(5,-.5,'U2SURP', fontstyle='italic')\n",
    "\n",
    "# Draw exon\n",
    "ax.plot([exon_start, exon_stop],[y,y], color='k', linewidth=5)\n",
    "\n",
    "# Tight layout\n",
    "plt.tight_layout()\n",
    "\n",
    "# Save as pdf\n",
    "out_file = 'Example_Janganathan.pdf'\n",
    "fig.savefig(out_file)"
   ]
  },
  {
   "cell_type": "code",
   "execution_count": 4,
   "metadata": {},
   "outputs": [
    {
     "name": "stdout",
     "output_type": "stream",
     "text": [
      "Done! Output written to Example_Janganathan.pdf.\n"
     ]
    }
   ],
   "source": [
    "print('Done! Output written to %s.'%out_file)"
   ]
  },
  {
   "cell_type": "code",
   "execution_count": null,
   "metadata": {
    "collapsed": true
   },
   "outputs": [],
   "source": []
  }
 ],
 "metadata": {
  "kernelspec": {
   "display_name": "anaconda_kernel",
   "language": "python",
   "name": "anaconda_kernel"
  },
  "language_info": {
   "codemirror_mode": {
    "name": "ipython",
    "version": 3
   },
   "file_extension": ".py",
   "mimetype": "text/x-python",
   "name": "python",
   "nbconvert_exporter": "python",
   "pygments_lexer": "ipython3",
   "version": "3.6.3"
  }
 },
 "nbformat": 4,
 "nbformat_minor": 2
}
