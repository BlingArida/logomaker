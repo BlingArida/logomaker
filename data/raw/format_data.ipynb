{
 "cells": [
  {
   "cell_type": "code",
   "execution_count": 1,
   "metadata": {},
   "outputs": [],
   "source": [
    "import numpy as np\n",
    "import pandas as pd\n",
    "import matplotlib.pyplot as plt\n",
    "import gzip\n",
    "import os\n",
    "% matplotlib inline\n",
    "plt.ion()\n",
    "\n",
    "import sys\n",
    "sys.path.append('../../')\n",
    "import logomaker"
   ]
  },
  {
   "cell_type": "code",
   "execution_count": 2,
   "metadata": {},
   "outputs": [],
   "source": [
    "def write_df_and_description(df, description, file_name, index=False, feedback=True):\n",
    "    \"\"\" Write a data frame, with comment, to file\"\"\"\n",
    "    \n",
    "    # convert description to comment\n",
    "    comment = '\\n'.join(['# %s'%line.strip() for line in description.split('\\n')])\n",
    "\n",
    "    # remove file if it already exists\n",
    "    if os.path.isfile(file_name):\n",
    "        os.remove(file_name)        \n",
    "    \n",
    "    # open file for appending\n",
    "    with open(file_name,'a') as f:\n",
    "        \n",
    "        # write comment\n",
    "        f.write(comment+'\\n')\n",
    "        \n",
    "        # write data frame\n",
    "        df.to_csv(f, sep='\\t', index=index)\n",
    "    \n",
    "    # provide feedback if desired\n",
    "    if feedback:\n",
    "        # show file name and location\n",
    "        print('-> saving data to %s:'%file_name)\n",
    "              \n",
    "        # preview file\n",
    "        with open(file_name,'r') as f:\n",
    "            lines = f.readlines()\n",
    "            head_length = min(len(lines),15)\n",
    "            tail_length = min(len(lines),10)\n",
    "            print(''.join(lines[:head_length]) + '...\\n' + ''.join(lines[-tail_length:]))"
   ]
  },
  {
   "cell_type": "code",
   "execution_count": 3,
   "metadata": {
    "collapsed": true
   },
   "outputs": [],
   "source": [
    "# Set names of output sequence files\n",
    "ss_seq_file = '../ss_sequences.txt'\n",
    "ww_seq_file = '../ww_aligned_sequences.txt'\n",
    "ars_fgseq_file = '../ars_selected_sequences.txt'\n",
    "ars_bgseq_file = '../ars_library_sequences.txt'\n",
    "ars_wtseq_file = '../ars_wt_sequence.txt'\n",
    "saliency_data_file = '../nn_saliency_values.txt'\n",
    "crp_sites_file = '../crp_site_sequences.txt'\n",
    "\n",
    "# Set names of output matrix files\n",
    "mat_dir = '../../logomaker/examples/matrices/'\n",
    "ww_mat_file = mat_dir + 'ww_information_matrix.txt'\n",
    "ss_mat_file = mat_dir + 'ss_probability_matrix.txt'\n",
    "crp_mat_file = mat_dir + 'crp_energy_matrix.txt'\n",
    "ars_mat_file = mat_dir + 'ars_enrichment_matrix.txt'\n",
    "saliency_mat_file = mat_dir + 'nn_saliency_matrix.txt'"
   ]
  },
  {
   "cell_type": "code",
   "execution_count": 4,
   "metadata": {},
   "outputs": [
    {
     "name": "stdout",
     "output_type": "stream",
     "text": [
      "-> saving data to ../nn_saliency_values.txt:\n",
      "# \n",
      "# Saliency values illustrated in Figure 1F.\n",
      "# Data are from Figure 1D of Janganathan et al. (2019),\n",
      "# and were kindly provided by Kyle Farh and Kishore Jaganathan.\n",
      "# \n",
      "# References:\n",
      "# \n",
      "# Jaganathan K et al. Predicting Splicing from Primary Sequence with\n",
      "# Deep Learning. Cell. 2019 176(3):535–548.e24.\n",
      "# \n",
      "character\tvalue\n",
      "G\t-0.0017247200012207031\n",
      "G\t0.03355717658996582\n",
      "G\t0.030026257038116455\n",
      "G\t0.012748241424560547\n",
      "...\n",
      "A\t-0.004249751567840576\n",
      "T\t0.019003868103027344\n",
      "A\t-0.00032633543014526367\n",
      "A\t-0.010485649108886719\n",
      "A\t0.0017966628074645996\n",
      "T\t0.021005749702453613\n",
      "T\t0.019015133380889893\n",
      "T\t0.010700225830078125\n",
      "T\t0.010440587997436523\n",
      "C\t-0.01064610481262207\n",
      "\n"
     ]
    }
   ],
   "source": [
    "### Format saliency data\n",
    "\n",
    "# write description\n",
    "description =  \"\"\"\n",
    "Saliency values illustrated in Figure 1F.\n",
    "Data are from Figure 1D of Janganathan et al. (2019), \n",
    "and were kindly provided by Kyle Farh and Kishore Jaganathan. \n",
    "\n",
    "References:\n",
    "\n",
    "Jaganathan K et al. Predicting Splicing from Primary Sequence with \n",
    "Deep Learning. Cell. 2019 176(3):535–548.e24. \n",
    "\"\"\"\n",
    "\n",
    "# load saliency data \n",
    "data = np.load('importance_score.npz')\n",
    "tmp_df = pd.DataFrame(data=data['arr_0'].T, columns=list('ACGT'))\n",
    "\n",
    "# format saliency data\n",
    "saliency_data_df = pd.DataFrame()\n",
    "for i, row in tmp_df.iterrows():\n",
    "    abs_vals = np.abs(row.values)\n",
    "    col_num = np.argmax(abs_vals)\n",
    "    saliency_data_df.loc[i,'character'] = tmp_df.columns[col_num]\n",
    "    saliency_data_df.loc[i,'value'] = row.iloc[col_num]\n",
    "\n",
    "# write data and description, then show file\n",
    "write_df_and_description(df=saliency_data_df, \n",
    "                         description=description,\n",
    "                         file_name=saliency_data_file)"
   ]
  },
  {
   "cell_type": "code",
   "execution_count": 9,
   "metadata": {},
   "outputs": [
    {
     "name": "stdout",
     "output_type": "stream",
     "text": [
      "Description of example matrix \"nn_saliency_values.txt\":\n",
      "# \n",
      "# Saliency values illustrated in Figure 1F.\n",
      "# Data are from Figure 1D of Janganathan et al. (2019),\n",
      "# and were kindly provided by Kyle Farh and Kishore Jaganathan.\n",
      "# \n",
      "# References:\n",
      "# \n",
      "# Jaganathan K et al. Predicting Splicing from Primary Sequence with\n",
      "# Deep Learning. Cell. 2019 176(3):535–548.e24.\n",
      "# \n",
      "\n"
     ]
    },
    {
     "data": {
      "text/html": [
       "<div>\n",
       "<style scoped>\n",
       "    .dataframe tbody tr th:only-of-type {\n",
       "        vertical-align: middle;\n",
       "    }\n",
       "\n",
       "    .dataframe tbody tr th {\n",
       "        vertical-align: top;\n",
       "    }\n",
       "\n",
       "    .dataframe thead th {\n",
       "        text-align: right;\n",
       "    }\n",
       "</style>\n",
       "<table border=\"1\" class=\"dataframe\">\n",
       "  <thead>\n",
       "    <tr style=\"text-align: right;\">\n",
       "      <th></th>\n",
       "      <th>character</th>\n",
       "      <th>value</th>\n",
       "    </tr>\n",
       "  </thead>\n",
       "  <tbody>\n",
       "    <tr>\n",
       "      <th>0</th>\n",
       "      <td>G</td>\n",
       "      <td>-0.001725</td>\n",
       "    </tr>\n",
       "    <tr>\n",
       "      <th>1</th>\n",
       "      <td>G</td>\n",
       "      <td>0.033557</td>\n",
       "    </tr>\n",
       "    <tr>\n",
       "      <th>2</th>\n",
       "      <td>G</td>\n",
       "      <td>0.030026</td>\n",
       "    </tr>\n",
       "    <tr>\n",
       "      <th>3</th>\n",
       "      <td>G</td>\n",
       "      <td>0.012748</td>\n",
       "    </tr>\n",
       "    <tr>\n",
       "      <th>4</th>\n",
       "      <td>G</td>\n",
       "      <td>0.000337</td>\n",
       "    </tr>\n",
       "  </tbody>\n",
       "</table>\n",
       "</div>"
      ],
      "text/plain": [
       "  character     value\n",
       "0         G -0.001725\n",
       "1         G  0.033557\n",
       "2         G  0.030026\n",
       "3         G  0.012748\n",
       "4         G  0.000337"
      ]
     },
     "execution_count": 9,
     "metadata": {},
     "output_type": "execute_result"
    }
   ],
   "source": [
    "### Validate saliency data\n",
    "with logomaker.open_example_datafile('nn_saliency_values.txt') as f:\n",
    "    df = pd.read_csv(f, comment='#', sep='\\t')\n",
    "df.head()"
   ]
  },
  {
   "cell_type": "code",
   "execution_count": 10,
   "metadata": {},
   "outputs": [
    {
     "name": "stdout",
     "output_type": "stream",
     "text": [
      "-> saving data to ../../logomaker/examples/matrices/nn_saliency_matrix.txt:\n",
      "# \n",
      "# Saliency matrix illustrated in Figure 1F.\n",
      "# Data are from Figure 1D of Janganathan et al. (2019),\n",
      "# and were kindly provided by Kyle Farh and Kishore Jaganathan.\n",
      "# \n",
      "# References:\n",
      "# \n",
      "# Jaganathan K et al. Predicting Splicing from Primary Sequence with\n",
      "# Deep Learning. Cell. 2019 176(3):535–548.e24.\n",
      "# \n",
      "pos\tA\tC\tG\tT\n",
      "0\t-0.0\t-0.0\t-0.0017247200012207031\t-0.0\n",
      "1\t0.0\t0.0\t0.03355717658996582\t0.0\n",
      "2\t0.0\t0.0\t0.030026257038116455\t0.0\n",
      "3\t0.0\t0.0\t0.012748241424560547\t0.0\n",
      "...\n",
      "119\t-0.004249751567840576\t-0.0\t-0.0\t-0.0\n",
      "120\t0.0\t0.0\t0.0\t0.019003868103027344\n",
      "121\t-0.00032633543014526367\t-0.0\t-0.0\t-0.0\n",
      "122\t-0.010485649108886719\t-0.0\t-0.0\t-0.0\n",
      "123\t0.0017966628074645996\t0.0\t0.0\t0.0\n",
      "124\t0.0\t0.0\t0.0\t0.021005749702453613\n",
      "125\t0.0\t0.0\t0.0\t0.019015133380889893\n",
      "126\t0.0\t0.0\t0.0\t0.010700225830078125\n",
      "127\t0.0\t0.0\t0.0\t0.010440587997436523\n",
      "128\t-0.0\t-0.01064610481262207\t-0.0\t-0.0\n",
      "\n"
     ]
    }
   ],
   "source": [
    "### Compute saliency matrix\n",
    "\n",
    "description = \"\"\"\n",
    "Saliency matrix illustrated in Figure 1F.\n",
    "Data are from Figure 1D of Janganathan et al. (2019), \n",
    "and were kindly provided by Kyle Farh and Kishore Jaganathan. \n",
    "\n",
    "References:\n",
    "\n",
    "Jaganathan K et al. Predicting Splicing from Primary Sequence with \n",
    "Deep Learning. Cell. 2019 176(3):535–548.e24. \n",
    "\"\"\"\n",
    "\n",
    "# THIS SHOULD WORK, BUT DOESN'T!\n",
    "#saliency_mat_df = logomaker.saliency_to_matrix(seq=saliency_data_df['character'], \n",
    "#                                               values=saliency_data_df['value'])\n",
    "\n",
    "# This is more complicated than it needs to be\n",
    "saliency_mat_df = logomaker.saliency_to_matrix(seq=''.join(saliency_data_df['character']),\n",
    "                                               values=list(saliency_data_df['value']))\n",
    "\n",
    "# write data and description, then show file\n",
    "write_df_and_description(df=saliency_mat_df, \n",
    "                         description=description,\n",
    "                         file_name=saliency_mat_file,\n",
    "                         index=True)"
   ]
  },
  {
   "cell_type": "code",
   "execution_count": 11,
   "metadata": {},
   "outputs": [
    {
     "name": "stdout",
     "output_type": "stream",
     "text": [
      "Description of example matrix \"nn_saliency_matrix\":\n",
      "# \n",
      "# Saliency matrix illustrated in Figure 1F.\n",
      "# Data are from Figure 1D of Janganathan et al. (2019),\n",
      "# and were kindly provided by Kyle Farh and Kishore Jaganathan.\n",
      "# \n",
      "# References:\n",
      "# \n",
      "# Jaganathan K et al. Predicting Splicing from Primary Sequence with\n",
      "# Deep Learning. Cell. 2019 176(3):535–548.e24.\n",
      "# \n",
      "\n"
     ]
    },
    {
     "data": {
      "text/plain": [
       "<logomaker.src.Logo.Logo at 0x116c31c50>"
      ]
     },
     "execution_count": 11,
     "metadata": {},
     "output_type": "execute_result"
    },
    {
     "data": {
      "image/png": "[encoded data removed]",
      "text/plain": [
       "<Figure size 720x180 with 1 Axes>"
      ]
     },
     "metadata": {},
     "output_type": "display_data"
    }
   ],
   "source": [
    "# Validate saliency matrix\n",
    "df = logomaker.get_example_matrix('nn_saliency_matrix')\n",
    "logomaker.Logo(df)"
   ]
  },
  {
   "cell_type": "code",
   "execution_count": 13,
   "metadata": {},
   "outputs": [
    {
     "name": "stdout",
     "output_type": "stream",
     "text": [
      "# CRP binding sites saved to ../crp_site_sequences.txt:\n",
      "sequence\tlocation\r\n",
      "ATAAGCAGGATTTAGCTCACACTTAT\tcaiFp_-41.5\r\n",
      "AAAAATGTGATACCAATCACAGAATA\tcaiTp_-41.5\r\n",
      "ATATTGGTGATCCATAAAACAATATT\tfixAp_-126.5\r\n",
      "ATATTGGTGAGGAACTTAACAATATT\tfixAp_-69.5\r\n",
      "GATTATTTGCACGGCGTCACACTTTG\taraBp_-93.5\r\n",
      "CAAAGTGTGACGCCGTGCAAATAATC\taraCp_-72.5\r\n",
      "CTTTCTTCGTAACGCCTCGCAAATTT\tppdDp_20.5\r\n",
      "TTATATGTGGTGCTAATACCCGGTTC\tnadCp_-45.5\r\n",
      "GAACCGGGTATTAGCACCACATATAA\tampD_6.5\r\n"
     ]
    }
   ],
   "source": [
    "### Format CRP sites data\n",
    "\n",
    "# load crp sites, taken from RegulonDB\n",
    "with open('crp_sites.fasta','r') as f:\n",
    "    lines = f.readlines()\n",
    "    info = [line.strip() for line in lines if '>' in line]\n",
    "    seqs = [line.strip() for line in lines if '>' not in line]\n",
    "    \n",
    "# clean information\n",
    "info = ['_'.join(line.split()[1:]) for line in info]\n",
    "    \n",
    "# create crp sites dataframe\n",
    "crp_sites_df = pd.DataFrame()\n",
    "crp_sites_df['sequence'] = seqs\n",
    "crp_sites_df['location'] = info\n",
    "\n",
    "# save list of sites as data frame\n",
    "crp_sites_df.to_csv(crp_sites_file, sep='\\t', index=False)\n",
    "print('# CRP binding sites saved to %s:'%crp_sites_file)\n",
    "!head $crp_sites_file"
   ]
  },
  {
   "cell_type": "code",
   "execution_count": 14,
   "metadata": {},
   "outputs": [
    {
     "name": "stdout",
     "output_type": "stream",
     "text": [
      "# CRP energy matrix saved to ../../logomaker/examples/matrices/crp_energy_matrix.txt:\n",
      "pos\tA\tC\tG\tT\r\n",
      "0\t-0.18364197530864196\t0.15586419753086422\t0.09413580246913582\t-0.06635802469135801\r\n",
      "1\t-0.29012345679012347\t0.2777777777777778\t0.1111111111111111\t-0.09876543209876544\r\n",
      "2\t-0.2762345679012346\t0.316358024691358\t0.16820987654320985\t-0.20833333333333334\r\n",
      "3\t-0.22685185185185186\t0.2854938271604938\t0.2978395061728395\t-0.35648148148148145\r\n",
      "4\t-0.0601851851851852\t0.1435185185185185\t0.05709876543209874\t-0.1404320987654321\r\n",
      "5\t0.29475308641975306\t-0.16820987654320985\t0.48611111111111116\t-0.6126543209876543\r\n",
      "6\t0.17901234567901236\t0.6172839506172839\t-0.8518518518518517\t0.0555555555555556\r\n",
      "7\t0.033950617283950574\t0.21296296296296294\t0.324074074074074\t-0.5709876543209876\r\n",
      "8\t0.44444444444444425\t0.5925925925925926\t-1.1172839506172838\t0.08024691358024684\r\n"
     ]
    }
   ],
   "source": [
    "### Format CRP energy matrix\n",
    "\n",
    "# load published energy matrix\n",
    "energy_df = pd.read_csv('crp_tau_final_all.26.txt', delim_whitespace=True, index_col=0)\n",
    "energy_df.columns = [c[-1] for c in energy_df.columns]\n",
    "energy_df = logomaker.transform_matrix(energy_df, center_values=True)\n",
    "energy_df = energy_df/1.62   # convert to kcal/mol\n",
    "\n",
    "# save energy matrix\n",
    "energy_df.to_csv(crp_mat_file, sep='\\t')\n",
    "print('# CRP energy matrix saved to %s:'%crp_mat_file)\n",
    "!head $crp_mat_file"
   ]
  },
  {
   "cell_type": "code",
   "execution_count": 15,
   "metadata": {},
   "outputs": [
    {
     "name": "stdout",
     "output_type": "stream",
     "text": [
      "# WW domain sequences saved to ../ww_aligned_sequences.txt:\n",
      "sequence\r\n",
      "LPPQW..TEA.VDVDT...GKFYFVHVET.......KETRWERP\r\n",
      "--PGW..TAT.VDPAS...GRTYYYHAAT.......GETRWEPP\r\n",
      "LPSGW..VEQ.TDPSS...GRPYYYHNAS.......NLTQWERP\r\n",
      "LPAGW..VAA.NDPSS...GRTYYYHAES.......GVTSWNPP\r\n",
      "LPNGW..QEL.VDPSS...GSTYYYNEVN.......GTTSWDRP\r\n",
      "LPEGW..VEL.VHESS...GKTYYFHAED.......NVTSWEQP\r\n",
      "LPQGW..IEA.VDPST...EATYYINEVE.......GITSWERP\r\n",
      "LPPGW..AKL.THPDS...GDAYYYNEAT.......NATSWDIP\r\n",
      "--TGW..EAL.VDEAS...GAIYYYNKLD.......GTSSWERP\r\n"
     ]
    }
   ],
   "source": [
    "### Format WW domain sequences\n",
    "\n",
    "# load alignment of WW domain proteins\n",
    "in_file = 'Pfam_wwdomain.fa'\n",
    "with open(in_file, 'r') as f:\n",
    "    text = f.read()\n",
    "    lines = text.split('\\n')\n",
    "    seqs = [l.strip().upper() for l in lines if '#' not in l and '>' not in l and len(l.strip())>0]\n",
    "    \n",
    "ww_seqs_df = pd.DataFrame()\n",
    "ww_seqs_df['sequence'] = seqs\n",
    "\n",
    "ww_seqs_df.to_csv(ww_seq_file, sep='\\t', index=False)\n",
    "print('# WW domain sequences saved to %s:'%ww_seq_file)\n",
    "!head $ww_seq_file"
   ]
  },
  {
   "cell_type": "code",
   "execution_count": 16,
   "metadata": {},
   "outputs": [
    {
     "name": "stdout",
     "output_type": "stream",
     "text": [
      "WW domain matrix computed and saved to ../../logomaker/examples/matrices/ww_information_matrix.txt.\n",
      "pos\tA\tC\tD\tE\tF\tG\tH\tI\tK\tL\tM\tN\tP\tQ\tR\tS\tT\tV\tW\tY\r\n",
      "0\t0.001591526468795453\t0.001591526468795453\t0.001591526468795453\t0.001591526468795453\t0.001591526468795453\t0.001591526468795453\t0.001591526468795453\t0.001591526468795453\t0.001591526468795453\t4.013829754302133\t0.001591526468795453\t0.001591526468795453\t0.001591526468795453\t0.001591526468795453\t0.001591526468795453\t0.001591526468795453\t0.001591526468795453\t0.06843563815820448\t0.001591526468795453\t0.001591526468795453\r\n",
      "1\t0.03497481914499014\t0.0013989927657996053\t0.0013989927657996053\t0.020984891486994083\t0.006994963828998028\t0.012590934892196452\t0.013989927657996056\t0.0013989927657996053\t0.006994963828998028\t0.012590934892196452\t0.0013989927657996053\t0.012590934892196452\t3.710128814900554\t0.022383884252793685\t0.004196978297398817\t0.013989927657996056\t0.004196978297398817\t0.0027979855315992106\t0.0013989927657996053\t0.0013989927657996053\r\n",
      "2\t0.10324713867289\t0.018390896576108533\t0.09066389364713152\t0.13744775335828482\t0.0070982407837611875\t0.02032678042622522\t0.018713543884461312\t0.0025811784668222505\t0.024843842743164157\t0.019681485809519655\t0.0032264730835278124\t0.020972075042930784\t0.32264730835278127\t0.030651494293514218\t0.01322853964246403\t0.11808891485711794\t0.0345232619937476\t0.011615303100700126\t0.0012905892334111253\t0.02290795889304747\r\n",
      "3\t0.07119604228898258\t0.0006300534715839166\t0.12727080125995113\t0.09450802073758749\t0.004410374301087415\t1.4623541075462703\t0.031502673579195825\t0.002520213886335666\t0.02016171109068533\t0.01449122984643008\t0.003150267357919583\t0.15373304706647561\t0.2022471643784372\t0.02898245969286016\t0.006930588187423082\t0.03213272705077974\t0.002520213886335666\t0.010080855545342665\t0.0006300534715839166\t0.0018901604147517498\r\n",
      "4\t0.0010464938143271588\t0.0010464938143271588\t0.0010464938143271588\t0.0010464938143271588\t0.007325456700290111\t0.0010464938143271588\t0.0010464938143271588\t0.0010464938143271588\t0.0010464938143271588\t0.0020929876286543176\t0.0010464938143271588\t0.0010464938143271588\t0.0010464938143271588\t0.0010464938143271588\t0.0020929876286543176\t0.0010464938143271588\t0.0010464938143271588\t0.0020929876286543176\t4.061442493403703\t0.051278196902030775\r\n",
      "5\t0.02813927151531403\t0.01780966551602154\t0.021727791929546277\t0.6525461445070292\t0.007123866206408615\t0.007123866206408615\t0.011398185930253784\t0.05520996309966677\t0.12787339840503464\t0.017097278895380676\t0.015316312343778523\t0.008192446137369908\t0.00035619331032043074\t0.08726736102850555\t0.05699092965126892\t0.0890483275801077\t0.11433805261285827\t0.08513020116658294\t0.0024933531722430152\t0.00890483275801077\r\n",
      "6\t0.12942780638325677\t0.010085283614279749\t0.0022411741365066106\t0.3667121180858941\t0.002801467670633263\t0.0036419079718232423\t0.002801467670633263\t0.03529849264997912\t0.10365430381343074\t0.013166898051976336\t0.10869694562057061\t0.0002801467670633263\t0.024092621967446066\t0.08488447042018787\t0.0904874057614544\t0.03445805234878914\t0.028294823473395958\t0.07171757236821154\t0.0022411741365066106\t0.004202201505949895\r\n",
      "7\t0.11642077802228216\t0.036308290932502485\t0.007027411148226287\t0.012180845990258898\t0.0269384094015341\t0.01827126898538835\t0.10400568499374906\t0.02248771567432412\t0.037245279085599325\t0.03279458535838934\t0.006793164109952078\t0.006324670033403659\t0.00023424703827420958\t0.04661516061656771\t0.29468277414895566\t0.015694551564372043\t0.015694551564372043\t0.06277820625748817\t0.00023424703827420958\t0.07940974597495705\r\n",
      "8\t0.007131184156060905\t0.0006482894687328095\t0.0035007631311571715\t0.01918936827449116\t0.036174552355290775\t0.0010372631499724954\t0.013095447268402753\t0.03876771023022201\t0.05562323641727506\t0.04317607861760512\t0.013743736737135562\t0.0037600789186502956\t0.0015558947249587427\t0.02230115772440865\t0.04032360495518075\t0.011928526224683697\t0.05497494694854225\t0.06547723634201377\t0.03876771023022201\t0.04758444700498822\r\n"
     ]
    }
   ],
   "source": [
    "### Save WW domain information matrix\n",
    "    \n",
    "# create counts matrix\n",
    "ww_counts_df = logomaker.alignment_to_matrix(ww_seqs_df['sequence'], characters_to_ignore='.-X')\n",
    "\n",
    "# filter base on counts\n",
    "num_seqs = ww_counts_df.sum(axis=1)\n",
    "pos_to_keep = num_seqs > len(seqs)/2\n",
    "ww_counts_df = ww_counts_df[pos_to_keep]\n",
    "ww_counts_df.reset_index(drop=True, inplace=True)\n",
    "\n",
    "# transform to information matrix\n",
    "ww_info_df = logomaker.transform_matrix(ww_counts_df, from_type='counts', to_type='information')\n",
    "\n",
    "# save file\n",
    "ww_info_df.to_csv(ww_mat_file, sep='\\t')\n",
    "print('WW domain matrix computed and saved to %s.'%ww_mat_file)\n",
    "!head $ww_mat_file"
   ]
  },
  {
   "cell_type": "code",
   "execution_count": 17,
   "metadata": {},
   "outputs": [
    {
     "name": "stdout",
     "output_type": "stream",
     "text": [
      "5'ss sequences saved to ../ss_sequences.txt.\n",
      "sequence\tcount\r\n",
      "CAGGUGAGU\t3729\r\n",
      "CAGGUGAGG\t3653\r\n",
      "CAGGUGAGC\t3090\r\n",
      "CAGGUAAGA\t2856\r\n",
      "AAGGUAAGA\t2740\r\n",
      "AAGGUGAGU\t2697\r\n",
      "GAGGUGAGU\t2570\r\n",
      "CAGGUAAGG\t2470\r\n",
      "AAGGUAAGU\t2374\r\n"
     ]
    }
   ],
   "source": [
    "### Format 5' ss sequences\n",
    "\n",
    "# load all splice sites\n",
    "tmp1_df = pd.read_csv('hg38_sss.txt', sep='\\t', index_col=0)\n",
    "\n",
    "# get 5' splice sites\n",
    "seqs = [s.replace('T','U') for s in tmp1_df['ss5_seq'] if s[3:5] in {'GT','GU'}]\n",
    "tmp2_df = pd.DataFrame(data=seqs, columns=['sequence'])\n",
    "\n",
    "# uniquify sequence list\n",
    "tmp2_df['count'] = 1\n",
    "ss_seqs_df = tmp2_df.groupby('sequence').sum()\n",
    "ss_seqs_df.sort_values(by='count', ascending=False, inplace=True)\n",
    "ss_seqs_df.reset_index(inplace=True)\n",
    "\n",
    "# save file\n",
    "ss_seqs_df.to_csv(ss_seq_file, sep='\\t', index=False)\n",
    "print('5\\'ss sequences saved to %s.'%ss_seq_file)\n",
    "!head $ss_seq_file"
   ]
  },
  {
   "cell_type": "code",
   "execution_count": 18,
   "metadata": {},
   "outputs": [
    {
     "name": "stdout",
     "output_type": "stream",
     "text": [
      "5'ss probability matrix computed and saved to ../../logomaker/examples/matrices/ss_probability_matrix.txt.\n",
      "pos\tA\tC\tG\tU\r\n",
      "0\t0.3257847108506421\t0.3598931310867879\t0.1883478410755839\t0.12597431698698613\r\n",
      "1\t0.6302921658191847\t0.1096785314142894\t0.12005515814875463\t0.13997414461777127\r\n",
      "2\t0.1011945186589675\t0.02727225717486857\t0.7991933120744635\t0.07233991209170042\r\n",
      "3\t0.0\t0.0\t1.0\t0.0\r\n",
      "4\t0.0\t0.0\t0.0\t1.0\r\n",
      "5\t0.5740239593208653\t0.03417392053779195\t0.35520813582694133\t0.036593984314401445\r\n",
      "6\t0.6734534172196845\t0.0831681461690942\t0.12562268378867533\t0.1177557528225459\r\n",
      "7\t0.09120744635008189\t0.06308368525381368\t0.7633474101525468\t0.08236145824355771\r\n",
      "8\t0.17799189864690165\t0.15584590192191675\t0.19268465052141687\t0.47347754890976473\r\n"
     ]
    }
   ],
   "source": [
    "### Generate 5'ss motif\n",
    "\n",
    "# compute probability matrix from sequence alignment\n",
    "prob_df = logomaker.alignment_to_matrix(sequences=ss_seqs_df['sequence'], \n",
    "                                        counts=ss_seqs_df['count'], \n",
    "                                        to_type='probability', \n",
    "                                        pseudocount=0)\n",
    "\n",
    "# save file\n",
    "prob_df.to_csv(ss_mat_file, sep='\\t')\n",
    "print('5\\'ss probability matrix computed and saved to %s.'%ss_mat_file)\n",
    "!head $ss_mat_file"
   ]
  },
  {
   "cell_type": "code",
   "execution_count": 20,
   "metadata": {},
   "outputs": [
    {
     "name": "stdout",
     "output_type": "stream",
     "text": [
      "Description of example matrix \"ss_probability_matrix\":\n",
      "\n"
     ]
    },
    {
     "data": {
      "text/plain": [
       "<logomaker.src.Logo.Logo at 0x11c2a4c88>"
      ]
     },
     "execution_count": 20,
     "metadata": {},
     "output_type": "execute_result"
    },
    {
     "data": {
      "image/png": "[encoded data removed]",
      "text/plain": [
       "<Figure size 720x180 with 1 Axes>"
      ]
     },
     "metadata": {},
     "output_type": "display_data"
    }
   ],
   "source": [
    "### Validate ss matrix\n",
    "df = logomaker.get_example_matrix('ss_probability_matrix')\n",
    "logomaker.Logo(df)"
   ]
  },
  {
   "cell_type": "code",
   "execution_count": null,
   "metadata": {
    "collapsed": true
   },
   "outputs": [],
   "source": [
    "def get_probmat_from_alngz_file(file_name):\n",
    "    with gzip.open(file_name, 'r') as f:\n",
    "        txt = [x.decode(\"utf-8\") for x in f]\n",
    "    \n",
    "    counts = np.array([int(str(name).strip().split('-')[-1]) for name in txt if '>' in name])\n",
    "    seqs = [str(s).strip() for s in txt if '>' not in s]\n",
    "    \n",
    "    mat = logomaker.alignment_to_matrix(sequences=seqs, \n",
    "                                        counts=counts, \n",
    "                                        to_type='probability')\n",
    "    return mat\n",
    "\n",
    "bg_file = 'data/ARS416_09_B1.qcfilt.aln.full.gz'\n",
    "fg_file = 'data/ARS416_09_B2.qcfilt.aln.full.gz'\n",
    "\n",
    "bg_df = get_probmat_from_alngz_file(bg_file)\n",
    "fg_df = get_probmat_from_alngz_file(fg_file)\n",
    "\n",
    "enrichment_df = np.log2(fg_df/bg_df)\n",
    "enrichment_df = logomaker.transform_matrix(enrichment_df, center_values=True)\n",
    "enrichment_df.loc[:,:] = enrichment_df.values[::-1,::-1]\n",
    "\n",
    "# show enrichment matrix\n",
    "logomaker.Logo(enrichment_df)\n",
    "\n",
    "# save file\n",
    "enrichment_df.to_csv(ars_mat_file, sep='\\t')\n",
    "print('ARS enrichment matrix computed and saved to %s.'%ars_mat_file)"
   ]
  },
  {
   "cell_type": "code",
   "execution_count": null,
   "metadata": {
    "collapsed": true
   },
   "outputs": [],
   "source": [
    "def rc(seq):\n",
    "    \"\"\"Reverse-complements a DNA sequence\"\"\"\n",
    "    complement = str.maketrans('ATCGN', 'TAGCN')\n",
    "    return str(seq).upper().translate(complement)[::-1]\n",
    "\n",
    "# write ars416 seq to file\n",
    "ars416 = rc(\n",
    "    'tctaacaaaatagcaaatttcgtcaaaaatgctaagaaataggtt'\n",
    "    'attactgagtagtatttatttaagtattgtttgtgcacttgcctg'\n",
    "    'caggccttttgaaaagcaagcataaaagatctaaacataaaatct'\n",
    "    'gtaaaataacaagat'.upper())\n",
    "with open('matrices/ars416.txt','w') as f:\n",
    "    f.write(ars416)"
   ]
  },
  {
   "cell_type": "code",
   "execution_count": null,
   "metadata": {
    "collapsed": true
   },
   "outputs": [],
   "source": []
  }
 ],
 "metadata": {
  "kernelspec": {
   "display_name": "anaconda_kernel",
   "language": "python",
   "name": "anaconda_kernel"
  },
  "language_info": {
   "codemirror_mode": {
    "name": "ipython",
    "version": 3
   },
   "file_extension": ".py",
   "mimetype": "text/x-python",
   "name": "python",
   "nbconvert_exporter": "python",
   "pygments_lexer": "ipython3",
   "version": "3.6.3"
  }
 },
 "nbformat": 4,
 "nbformat_minor": 2
}
