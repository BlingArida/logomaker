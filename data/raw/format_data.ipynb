{
 "cells": [
  {
   "cell_type": "code",
   "execution_count": 1,
   "metadata": {},
   "outputs": [],
   "source": [
    "import numpy as np\n",
    "import pandas as pd\n",
    "import matplotlib.pyplot as plt\n",
    "import gzip\n",
    "import os\n",
    "% matplotlib inline\n",
    "plt.ion()\n",
    "\n",
    "import sys\n",
    "sys.path.append('../../')\n",
    "import logomaker"
   ]
  },
  {
   "cell_type": "code",
   "execution_count": 2,
   "metadata": {},
   "outputs": [],
   "source": [
    "def write_df_and_description(df, description, file_name, index=False, feedback=True):\n",
    "    \"\"\" Write a data frame, with comment, to file\"\"\"\n",
    "    \n",
    "    # convert description to comment\n",
    "    comment = '\\n'.join(['# %s'%line.strip() for line in description.split('\\n')])\n",
    "\n",
    "    # remove file if it already exists\n",
    "    if os.path.isfile(file_name):\n",
    "        os.remove(file_name)        \n",
    "    \n",
    "    # open file for appending\n",
    "    with open(file_name,'a') as f:\n",
    "        \n",
    "        # write comment\n",
    "        f.write(comment+'\\n')\n",
    "        \n",
    "        # write data frame\n",
    "        df.to_csv(f, sep='\\t', index=index)\n",
    "    \n",
    "    # provide feedback if desired\n",
    "    if feedback:\n",
    "        # show file name and location\n",
    "        print('-> saving data to %s:'%file_name)\n",
    "              \n",
    "        # preview file\n",
    "        with open(file_name,'r') as f:\n",
    "            lines = f.readlines()\n",
    "            head_length = min(len(lines),15)\n",
    "            tail_length = min(len(lines),10)\n",
    "            print(''.join(lines[:head_length]) + '...\\n' + ''.join(lines[-tail_length:]))"
   ]
  },
  {
   "cell_type": "code",
   "execution_count": 3,
   "metadata": {
    "collapsed": true
   },
   "outputs": [],
   "source": [
    "# Set names of output sequence files\n",
    "ss_seq_file = '../ss_sequences.txt'\n",
    "ww_seq_file = '../ww_aligned_sequences.txt'\n",
    "ars_fgseq_file = '../ars_selected_sequences.txt'\n",
    "ars_bgseq_file = '../ars_library_sequences.txt'\n",
    "ars_wtseq_file = '../ars_wt_sequence.txt'\n",
    "saliency_data_file = '../nn_saliency_values.txt'\n",
    "crp_sites_file = '../crp_site_sequences.txt'\n",
    "\n",
    "# Set names of output matrix files\n",
    "mat_dir = '../../logomaker/examples/matrices/'\n",
    "ww_mat_file = mat_dir + 'ww_information_matrix.txt'\n",
    "ss_mat_file = mat_dir + 'ss_probability_matrix.txt'\n",
    "crp_mat_file = mat_dir + 'crp_energy_matrix.txt'\n",
    "ars_mat_file = mat_dir + 'ars_enrichment_matrix.txt'\n",
    "saliency_mat_file = mat_dir + 'nn_saliency_matrix.txt'"
   ]
  },
  {
   "cell_type": "code",
   "execution_count": 4,
   "metadata": {},
   "outputs": [
    {
     "name": "stdout",
     "output_type": "stream",
     "text": [
      "-> saving data to ../nn_saliency_values.txt:\n",
      "# \n",
      "# Saliency values illustrated in Figure 1F.\n",
      "# Data are from Figure 1D of Janganathan et al. (2019),\n",
      "# and were kindly provided by Kyle Farh and Kishore Jaganathan.\n",
      "# \n",
      "# References:\n",
      "# \n",
      "# Jaganathan K et al. Predicting Splicing from Primary Sequence with\n",
      "# Deep Learning. Cell. 2019 176(3):535–548.e24.\n",
      "# \n",
      "character\tvalue\n",
      "G\t-0.0017247200012207031\n",
      "G\t0.03355717658996582\n",
      "G\t0.030026257038116455\n",
      "G\t0.012748241424560547\n",
      "...\n",
      "A\t-0.004249751567840576\n",
      "T\t0.019003868103027344\n",
      "A\t-0.00032633543014526367\n",
      "A\t-0.010485649108886719\n",
      "A\t0.0017966628074645996\n",
      "T\t0.021005749702453613\n",
      "T\t0.019015133380889893\n",
      "T\t0.010700225830078125\n",
      "T\t0.010440587997436523\n",
      "C\t-0.01064610481262207\n",
      "\n"
     ]
    }
   ],
   "source": [
    "### Format saliency data\n",
    "\n",
    "# write description\n",
    "description =  \"\"\"\n",
    "Saliency values illustrated in Figure 1F.\n",
    "Data are from Figure 1D of Janganathan et al. (2019), \n",
    "and were kindly provided by Kyle Farh and Kishore Jaganathan. \n",
    "\n",
    "References:\n",
    "\n",
    "Jaganathan K et al. Predicting Splicing from Primary Sequence with \n",
    "Deep Learning. Cell. 2019 176(3):535–548.e24. \n",
    "\"\"\"\n",
    "\n",
    "# load saliency data \n",
    "data = np.load('importance_score.npz')\n",
    "tmp_df = pd.DataFrame(data=data['arr_0'].T, columns=list('ACGT'))\n",
    "\n",
    "# format saliency data\n",
    "saliency_data_df = pd.DataFrame()\n",
    "for i, row in tmp_df.iterrows():\n",
    "    abs_vals = np.abs(row.values)\n",
    "    col_num = np.argmax(abs_vals)\n",
    "    saliency_data_df.loc[i,'character'] = tmp_df.columns[col_num]\n",
    "    saliency_data_df.loc[i,'value'] = row.iloc[col_num]\n",
    "\n",
    "# write data and description, then show file\n",
    "write_df_and_description(df=saliency_data_df, \n",
    "                         description=description,\n",
    "                         file_name=saliency_data_file)"
   ]
  },
  {
   "cell_type": "code",
   "execution_count": 5,
   "metadata": {},
   "outputs": [
    {
     "data": {
      "text/plain": [
       "['ww_aligned_sequences.txt',\n",
       " 'ss_sequences.txt',\n",
       " 'crp_site_sequences.txt',\n",
       " 'ss_probability_matrix.txt',\n",
       " 'nn_saliency_values.txt',\n",
       " 'ww_information_matrix.txt',\n",
       " 'crp_energy_matrix.txt',\n",
       " 'nn_saliency_matrix.txt']"
      ]
     },
     "execution_count": 5,
     "metadata": {},
     "output_type": "execute_result"
    }
   ],
   "source": [
    "logomaker.list_example_datafiles()"
   ]
  },
  {
   "cell_type": "code",
   "execution_count": null,
   "metadata": {},
   "outputs": [],
   "source": [
    "with logomaker.open_example_datafile('nn_saliency_values.txt') as f:\n",
    "    df = pd.read_csv(f, comment='#', sep='\\t')\n",
    "df.head()"
   ]
  },
  {
   "cell_type": "code",
   "execution_count": null,
   "metadata": {},
   "outputs": [],
   "source": [
    "### Compute saliency matrix\n",
    "\n",
    "description = \"\"\"\n",
    "Saliency matrix illustrated in Figure 1F.\n",
    "Data are from Figure 1D of Janganathan et al. (2019), \n",
    "and were kindly provided by Kyle Farh and Kishore Jaganathan. \n",
    "\n",
    "References:\n",
    "\n",
    "Jaganathan K et al. Predicting Splicing from Primary Sequence with \n",
    "Deep Learning. Cell. 2019 176(3):535–548.e24. \n",
    "\"\"\"\n",
    "\n",
    "# THIS SHOULD WORK, BUT DOESN'T!\n",
    "#saliency_mat_df = logomaker.saliency_to_matrix(seq=saliency_data_df['character'], \n",
    "#                                               values=saliency_data_df['value'])\n",
    "\n",
    "# This is more complicated than it needs to be\n",
    "saliency_mat_df = logomaker.saliency_to_matrix(seq=''.join(saliency_data_df['character']),\n",
    "                                               values=list(saliency_data_df['value']))\n",
    "\n",
    "# write data and description, then show file\n",
    "write_df_and_description(df=saliency_mat_df, \n",
    "                         description=description,\n",
    "                         file_name=saliency_mat_file,\n",
    "                         index=True)"
   ]
  },
  {
   "cell_type": "code",
   "execution_count": 6,
   "metadata": {},
   "outputs": [
    {
     "name": "stdout",
     "output_type": "stream",
     "text": [
      "Description of example matrix \"nn_saliency_matrix\":\n",
      "# \n",
      "# Saliency matrix illustrated in Figure 1F.\n",
      "# Data are from Figure 1D of Janganathan et al. (2019),\n",
      "# and were kindly provided by Kyle Farh and Kishore Jaganathan.\n",
      "# \n",
      "# References:\n",
      "# \n",
      "# Jaganathan K et al. Predicting Splicing from Primary Sequence with\n",
      "# Deep Learning. Cell. 2019 176(3):535–548.e24.\n",
      "# \n",
      "\n"
     ]
    },
    {
     "data": {
      "text/plain": [
       "<logomaker.src.Logo.Logo at 0x1167ae278>"
      ]
     },
     "execution_count": 6,
     "metadata": {},
     "output_type": "execute_result"
    },
    {
     "data": {
      "image/png": "[encoded data removed]",
      "text/plain": [
       "<Figure size 720x180 with 1 Axes>"
      ]
     },
     "metadata": {},
     "output_type": "display_data"
    }
   ],
   "source": [
    "# Check that saliency matrix works with get_example_matrix\n",
    "df = logomaker.get_example_matrix('nn_saliency_matrix')\n",
    "logomaker.Logo(df)"
   ]
  },
  {
   "cell_type": "code",
   "execution_count": null,
   "metadata": {},
   "outputs": [],
   "source": [
    "### Format CRP sites data\n",
    "\n",
    "# load crp sites, taken from RegulonDB\n",
    "with open('crp_sites.fasta','r') as f:\n",
    "    lines = f.readlines()\n",
    "    info = [line.strip() for line in lines if '>' in line]\n",
    "    seqs = [line.strip() for line in lines if '>' not in line]\n",
    "    \n",
    "# clean information\n",
    "info = ['_'.join(line.split()[1:]) for line in info]\n",
    "    \n",
    "# create crp sites dataframe\n",
    "crp_sites_df = pd.DataFrame()\n",
    "crp_sites_df['sequence'] = seqs\n",
    "crp_sites_df['location'] = info\n",
    "\n",
    "# save list of sites as data frame\n",
    "crp_sites_df.to_csv(crp_sites_file, sep='\\t', index=False)\n",
    "print('# CRP binding sites saved to %s:'%crp_sites_file)\n",
    "!head $crp_sites_file"
   ]
  },
  {
   "cell_type": "code",
   "execution_count": null,
   "metadata": {},
   "outputs": [],
   "source": [
    "### Format CRP energy matrix\n",
    "\n",
    "# load published energy matrix\n",
    "energy_df = pd.read_csv('crp_tau_final_all.26.txt', delim_whitespace=True, index_col=0)\n",
    "energy_df.columns = [c[-1] for c in energy_df.columns]\n",
    "energy_df = logomaker.transform_matrix(energy_df, center_values=True)\n",
    "energy_df = energy_df/1.62   # convert to kcal/mol\n",
    "\n",
    "# save energy matrix\n",
    "energy_df.to_csv(crp_mat_file, sep='\\t')\n",
    "print('# CRP energy matrix saved to %s:'%crp_mat_file)\n",
    "!head $crp_mat_file"
   ]
  },
  {
   "cell_type": "code",
   "execution_count": null,
   "metadata": {},
   "outputs": [],
   "source": [
    "### Format WW domain sequences\n",
    "\n",
    "# load alignment of WW domain proteins\n",
    "in_file = 'Pfam_wwdomain.fa'\n",
    "with open(in_file, 'r') as f:\n",
    "    text = f.read()\n",
    "    lines = text.split('\\n')\n",
    "    seqs = [l.strip().upper() for l in lines if '#' not in l and '>' not in l and len(l.strip())>0]\n",
    "    \n",
    "ww_seqs_df = pd.DataFrame()\n",
    "ww_seqs_df['sequence'] = seqs\n",
    "\n",
    "ww_seqs_df.to_csv(ww_seq_file, sep='\\t', index=False)\n",
    "print('# WW domain sequences saved to %s:'%ww_seq_file)\n",
    "!head $ww_seq_file"
   ]
  },
  {
   "cell_type": "code",
   "execution_count": null,
   "metadata": {},
   "outputs": [],
   "source": [
    "### Save WW domain information matrix\n",
    "    \n",
    "# create counts matrix\n",
    "ww_counts_df = logomaker.alignment_to_matrix(ww_seqs_df['sequence'], characters_to_ignore='.-X')\n",
    "\n",
    "# filter base on counts\n",
    "num_seqs = ww_counts_df.sum(axis=1)\n",
    "pos_to_keep = num_seqs > len(seqs)/2\n",
    "ww_counts_df = ww_counts_df[pos_to_keep]\n",
    "ww_counts_df.reset_index(drop=True, inplace=True)\n",
    "\n",
    "# transform to information matrix\n",
    "ww_info_df = logomaker.transform_matrix(ww_counts_df, from_type='counts', to_type='information')\n",
    "\n",
    "# save file\n",
    "ww_info_df.to_csv(ww_mat_file, sep='\\t')\n",
    "print('WW domain matrix computed and saved to %s.'%ww_mat_file)\n",
    "!head $ww_mat_file"
   ]
  },
  {
   "cell_type": "code",
   "execution_count": null,
   "metadata": {},
   "outputs": [],
   "source": [
    "### Format 5' ss sequences\n",
    "\n",
    "# load all splice sites\n",
    "tmp1_df = pd.read_csv('hg38_sss.txt', sep='\\t', index_col=0)\n",
    "\n",
    "# get 5' splice sites\n",
    "seqs = [s.replace('T','U') for s in tmp1_df['ss5_seq'] if s[3:5] in {'GT','GU'}]\n",
    "tmp2_df = pd.DataFrame(data=seqs, columns=['sequence'])\n",
    "\n",
    "# uniquify sequence list\n",
    "tmp2_df['count'] = 1\n",
    "ss_seqs_df = tmp2_df.groupby('sequence').sum()\n",
    "ss_seqs_df.sort_values(by='count', ascending=False, inplace=True)\n",
    "ss_seqs_df.reset_index(inplace=True)\n",
    "\n",
    "# save file\n",
    "ss_seqs_df.to_csv(ss_seq_file, sep='\\t', index=False)\n",
    "print('5\\'ss sequences saved to %s.'%ss_seq_file)\n",
    "!head $ss_seq_file"
   ]
  },
  {
   "cell_type": "code",
   "execution_count": null,
   "metadata": {},
   "outputs": [],
   "source": [
    "### Generate 5'ss motif\n",
    "\n",
    "# compute probability matrix from sequence alignment\n",
    "prob_df = logomaker.alignment_to_matrix(ss_seqs_df['sequence'], to_type='probability', pseudocount=0)\n",
    "\n",
    "# save file\n",
    "prob_df.to_csv(ss_mat_file, sep='\\t')\n",
    "print('5\\'ss probability matrix computed and saved to %s.'%ss_mat_file)\n",
    "!head $ss_mat_file"
   ]
  },
  {
   "cell_type": "code",
   "execution_count": null,
   "metadata": {
    "collapsed": true
   },
   "outputs": [],
   "source": [
    "def get_probmat_from_alngz_file(file_name):\n",
    "    with gzip.open(file_name, 'r') as f:\n",
    "        txt = [x.decode(\"utf-8\") for x in f]\n",
    "    \n",
    "    counts = np.array([int(str(name).strip().split('-')[-1]) for name in txt if '>' in name])\n",
    "    seqs = [str(s).strip() for s in txt if '>' not in s]\n",
    "    \n",
    "    mat = logomaker.alignment_to_matrix(sequences=seqs, \n",
    "                                        counts=counts, \n",
    "                                        to_type='probability')\n",
    "    return mat\n",
    "\n",
    "bg_file = 'data/ARS416_09_B1.qcfilt.aln.full.gz'\n",
    "fg_file = 'data/ARS416_09_B2.qcfilt.aln.full.gz'\n",
    "\n",
    "bg_df = get_probmat_from_alngz_file(bg_file)\n",
    "fg_df = get_probmat_from_alngz_file(fg_file)\n",
    "\n",
    "enrichment_df = np.log2(fg_df/bg_df)\n",
    "enrichment_df = logomaker.transform_matrix(enrichment_df, center_values=True)\n",
    "enrichment_df.loc[:,:] = enrichment_df.values[::-1,::-1]\n",
    "\n",
    "# show enrichment matrix\n",
    "logomaker.Logo(enrichment_df)\n",
    "\n",
    "# save file\n",
    "enrichment_df.to_csv(ars_mat_file, sep='\\t')\n",
    "print('ARS enrichment matrix computed and saved to %s.'%ars_mat_file)"
   ]
  },
  {
   "cell_type": "code",
   "execution_count": null,
   "metadata": {
    "collapsed": true
   },
   "outputs": [],
   "source": [
    "def rc(seq):\n",
    "    \"\"\"Reverse-complements a DNA sequence\"\"\"\n",
    "    complement = str.maketrans('ATCGN', 'TAGCN')\n",
    "    return str(seq).upper().translate(complement)[::-1]\n",
    "\n",
    "# write ars416 seq to file\n",
    "ars416 = rc(\n",
    "    'tctaacaaaatagcaaatttcgtcaaaaatgctaagaaataggtt'\n",
    "    'attactgagtagtatttatttaagtattgtttgtgcacttgcctg'\n",
    "    'caggccttttgaaaagcaagcataaaagatctaaacataaaatct'\n",
    "    'gtaaaataacaagat'.upper())\n",
    "with open('matrices/ars416.txt','w') as f:\n",
    "    f.write(ars416)"
   ]
  },
  {
   "cell_type": "code",
   "execution_count": null,
   "metadata": {
    "collapsed": true
   },
   "outputs": [],
   "source": []
  }
 ],
 "metadata": {
  "kernelspec": {
   "display_name": "anaconda_kernel",
   "language": "python",
   "name": "anaconda_kernel"
  },
  "language_info": {
   "codemirror_mode": {
    "name": "ipython",
    "version": 3
   },
   "file_extension": ".py",
   "mimetype": "text/x-python",
   "name": "python",
   "nbconvert_exporter": "python",
   "pygments_lexer": "ipython3",
   "version": "3.6.3"
  }
 },
 "nbformat": 4,
 "nbformat_minor": 2
}
