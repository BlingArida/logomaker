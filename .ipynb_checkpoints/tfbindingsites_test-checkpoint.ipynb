{
 "cells": [
  {
   "cell_type": "code",
   "execution_count": 1,
   "metadata": {
    "collapsed": false
   },
   "outputs": [],
   "source": [
    "from __future__ import division\n",
    "import numpy as np\n",
    "import scipy as sp\n",
    "import matplotlib.pyplot as plt\n",
    "import pandas as pd\n",
    "\n",
    "# Import LogoMaker\n",
    "import logomaker\n",
    "\n",
    "%matplotlib inline\n",
    "plt.ion()"
   ]
  },
  {
   "cell_type": "code",
   "execution_count": 2,
   "metadata": {
    "collapsed": true
   },
   "outputs": [],
   "source": [
    "# Load counts matrix from fasta file\n",
    "counts_mat = logomaker.load_alignment(file_name='crp_sites.fasta')"
   ]
  },
  {
   "cell_type": "code",
   "execution_count": 3,
   "metadata": {
    "collapsed": false,
    "scrolled": true
   },
   "outputs": [
    {
     "name": "stdout",
     "output_type": "stream",
     "text": [
      "[set] logo_type = 'enrichment'\n"
     ]
    },
    {
     "ename": "SyntaxError",
     "evalue": "invalid syntax (<unknown>, line 1)",
     "output_type": "error",
     "traceback": [
      "\u001b[0;36m  File \u001b[0;32m\"<unknown>\"\u001b[0;36m, line \u001b[0;32m1\u001b[0m\n\u001b[0;31m    '{'A': [ 0. ,  0.5,  0. ,  1. ], 'C': [ 0.,  0.,  1.,  1.], 'G': [ 1.  ,  0.65,  0.  ,  1.  ], 'T': [ 1.,  0.,  0.,  1.]}'\u001b[0m\n\u001b[0m       ^\u001b[0m\n\u001b[0;31mSyntaxError\u001b[0m\u001b[0;31m:\u001b[0m invalid syntax\n"
     ]
    }
   ],
   "source": [
    "# Make all logo types\n",
    "wtseq = 'ATTAATGTGAGTTAGCTCACTCATTA'\n",
    "\n",
    "parameters_txt = \"\"\"\n",
    "logo_type : 'enrichment'\n",
    "colors : {'A': [ 0. ,  0.5,  0. ,  1. ],\\\n",
    " 'C': [ 0.,  0.,  1.,  1.],\\\n",
    " 'G': [ 1.  ,  0.65,  0.  ,  1.  ],\\\n",
    " 'T': [ 1.,  0.,  0.,  1.]}\n",
    "hpad : .1\n",
    "vpad : .1\n",
    "below_flip : True\n",
    "foo bar\n",
    "virus : eval(x=5)\n",
    "\"\"\"\n",
    "with open('parameters.txt','w') as f:\n",
    "    f.write(parameters_txt)\n",
    "\n",
    "logo1 = logomaker.make_logo(counts_mat, colors='classic', logo_type='energy', energy_units='kcal/mol')\n",
    "logo2 = logomaker.make_styled_logo('parameters.txt', counts_mat)\n",
    "\n",
    "fig, axs = plt.subplots(2, figsize=[6,3])\n",
    "\n",
    "logo1.draw(axs[0])\n",
    "logo2.draw(axs[1])\n",
    "\n",
    "fig.tight_layout()"
   ]
  }
 ],
 "metadata": {
  "kernelspec": {
   "display_name": "Python 2",
   "language": "python",
   "name": "python2"
  },
  "language_info": {
   "codemirror_mode": {
    "name": "ipython",
    "version": 2
   },
   "file_extension": ".py",
   "mimetype": "text/x-python",
   "name": "python",
   "nbconvert_exporter": "python",
   "pygments_lexer": "ipython2",
   "version": "2.7.11"
  }
 },
 "nbformat": 4,
 "nbformat_minor": 0
}
